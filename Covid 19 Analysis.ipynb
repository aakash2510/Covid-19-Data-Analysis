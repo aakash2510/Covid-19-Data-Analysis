{
 "cells": [
  {
   "cell_type": "code",
   "execution_count": null,
   "id": "7b54af01",
   "metadata": {},
   "outputs": [],
   "source": []
  },
  {
   "cell_type": "code",
   "execution_count": 18,
   "id": "d2b82c9e",
   "metadata": {},
   "outputs": [],
   "source": [
    "import plotly.express as px\n",
    "import plotly.graph_objects as go\n",
    "import plotly.figure_factory as ff\n",
    "from plotly.subplots import make_subplots\n",
    "\n",
    "import folium\n",
    "\n",
    "\n",
    "import pandas as pd\n",
    "import numpy as np\n",
    "import matplotlib.pyplot as plt\n",
    "\n",
    "%matplotlib inline\n",
    "\n",
    "import math\n",
    "import random\n",
    "from datetime import timedelta\n",
    "\n",
    "import warnings\n",
    "warnings.filterwarnings('ignore')\n",
    "\n",
    "# COLOR PALLETTES\n",
    "cnf = '#393e46'\n",
    "dtf = '#ff2e63'\n",
    "rec = '#21bf73'\n",
    "act = '#fe9801'"
   ]
  },
  {
   "cell_type": "code",
   "execution_count": null,
   "id": "5b4dd961",
   "metadata": {},
   "outputs": [],
   "source": []
  },
  {
   "cell_type": "markdown",
   "id": "563932d2",
   "metadata": {},
   "source": [
    "## Dataset Preparation"
   ]
  },
  {
   "cell_type": "code",
   "execution_count": 19,
   "id": "15b3b549",
   "metadata": {},
   "outputs": [
    {
     "data": {
      "text/html": [
       "        <script type=\"text/javascript\">\n",
       "        window.PlotlyConfig = {MathJaxConfig: 'local'};\n",
       "        if (window.MathJax) {MathJax.Hub.Config({SVG: {font: \"STIX-Web\"}});}\n",
       "        if (typeof require !== 'undefined') {\n",
       "        require.undef(\"plotly\");\n",
       "        requirejs.config({\n",
       "            paths: {\n",
       "                'plotly': ['https://cdn.plot.ly/plotly-2.4.2.min']\n",
       "            }\n",
       "        });\n",
       "        require(['plotly'], function(Plotly) {\n",
       "            window._Plotly = Plotly;\n",
       "        });\n",
       "        }\n",
       "        </script>\n",
       "        "
      ]
     },
     "metadata": {},
     "output_type": "display_data"
    }
   ],
   "source": [
    "import plotly as py\n",
    "py.offline.init_notebook_mode(connected=True)"
   ]
  },
  {
   "cell_type": "code",
   "execution_count": 20,
   "id": "a60b7f81",
   "metadata": {},
   "outputs": [],
   "source": [
    "df = pd.read_csv(r\"C:\\Users\\HP\\Downloads\\Data Analysis\\New folder\\Preprocessed Covid19 Dataset\\Preprocessed\\covid_19_cleaned_data.csv\", parse_dates=['Date'])\n",
    "\n",
    "country_daywise = pd.read_csv(r\"C:\\Users\\HP\\Downloads\\Data Analysis\\New folder\\Preprocessed Covid19 Dataset\\Preprocessed\\country_daywise_data.csv\", parse_dates=['Date'])\n",
    "\n",
    "countrywise = pd.read_csv(r\"C:\\Users\\HP\\Downloads\\Data Analysis\\New folder\\Preprocessed Covid19 Dataset\\Preprocessed\\countrywise_data.csv\")\n",
    "\n",
    "daywise = pd.read_csv(r\"C:\\Users\\HP\\Downloads\\Data Analysis\\New folder\\Preprocessed Covid19 Dataset\\Preprocessed\\daywise_data.csv\", parse_dates=['Date'])"
   ]
  },
  {
   "cell_type": "code",
   "execution_count": 21,
   "id": "36719f56",
   "metadata": {},
   "outputs": [
    {
     "data": {
      "text/html": [
       "<div>\n",
       "<style scoped>\n",
       "    .dataframe tbody tr th:only-of-type {\n",
       "        vertical-align: middle;\n",
       "    }\n",
       "\n",
       "    .dataframe tbody tr th {\n",
       "        vertical-align: top;\n",
       "    }\n",
       "\n",
       "    .dataframe thead th {\n",
       "        text-align: right;\n",
       "    }\n",
       "</style>\n",
       "<table border=\"1\" class=\"dataframe\">\n",
       "  <thead>\n",
       "    <tr style=\"text-align: right;\">\n",
       "      <th></th>\n",
       "      <th>Date</th>\n",
       "      <th>Province/State</th>\n",
       "      <th>Country</th>\n",
       "      <th>Lat</th>\n",
       "      <th>Long</th>\n",
       "      <th>Confirmed</th>\n",
       "      <th>Recovered</th>\n",
       "      <th>Deaths</th>\n",
       "      <th>Active</th>\n",
       "    </tr>\n",
       "  </thead>\n",
       "  <tbody>\n",
       "    <tr>\n",
       "      <th>0</th>\n",
       "      <td>2020-01-22</td>\n",
       "      <td></td>\n",
       "      <td>Afghanistan</td>\n",
       "      <td>33.93911</td>\n",
       "      <td>67.709953</td>\n",
       "      <td>0</td>\n",
       "      <td>0</td>\n",
       "      <td>0</td>\n",
       "      <td>0</td>\n",
       "    </tr>\n",
       "    <tr>\n",
       "      <th>1</th>\n",
       "      <td>2020-01-23</td>\n",
       "      <td></td>\n",
       "      <td>Afghanistan</td>\n",
       "      <td>33.93911</td>\n",
       "      <td>67.709953</td>\n",
       "      <td>0</td>\n",
       "      <td>0</td>\n",
       "      <td>0</td>\n",
       "      <td>0</td>\n",
       "    </tr>\n",
       "    <tr>\n",
       "      <th>2</th>\n",
       "      <td>2020-01-24</td>\n",
       "      <td></td>\n",
       "      <td>Afghanistan</td>\n",
       "      <td>33.93911</td>\n",
       "      <td>67.709953</td>\n",
       "      <td>0</td>\n",
       "      <td>0</td>\n",
       "      <td>0</td>\n",
       "      <td>0</td>\n",
       "    </tr>\n",
       "    <tr>\n",
       "      <th>3</th>\n",
       "      <td>2020-01-25</td>\n",
       "      <td></td>\n",
       "      <td>Afghanistan</td>\n",
       "      <td>33.93911</td>\n",
       "      <td>67.709953</td>\n",
       "      <td>0</td>\n",
       "      <td>0</td>\n",
       "      <td>0</td>\n",
       "      <td>0</td>\n",
       "    </tr>\n",
       "    <tr>\n",
       "      <th>4</th>\n",
       "      <td>2020-01-26</td>\n",
       "      <td></td>\n",
       "      <td>Afghanistan</td>\n",
       "      <td>33.93911</td>\n",
       "      <td>67.709953</td>\n",
       "      <td>0</td>\n",
       "      <td>0</td>\n",
       "      <td>0</td>\n",
       "      <td>0</td>\n",
       "    </tr>\n",
       "  </tbody>\n",
       "</table>\n",
       "</div>"
      ],
      "text/plain": [
       "        Date Province/State      Country       Lat       Long  Confirmed  \\\n",
       "0 2020-01-22                 Afghanistan  33.93911  67.709953          0   \n",
       "1 2020-01-23                 Afghanistan  33.93911  67.709953          0   \n",
       "2 2020-01-24                 Afghanistan  33.93911  67.709953          0   \n",
       "3 2020-01-25                 Afghanistan  33.93911  67.709953          0   \n",
       "4 2020-01-26                 Afghanistan  33.93911  67.709953          0   \n",
       "\n",
       "   Recovered  Deaths  Active  \n",
       "0          0       0       0  \n",
       "1          0       0       0  \n",
       "2          0       0       0  \n",
       "3          0       0       0  \n",
       "4          0       0       0  "
      ]
     },
     "execution_count": 21,
     "metadata": {},
     "output_type": "execute_result"
    }
   ],
   "source": [
    "df['Province/State'] = df['Province/State'].fillna(\"\")\n",
    "df.head()"
   ]
  },
  {
   "cell_type": "code",
   "execution_count": 22,
   "id": "cc9b3646",
   "metadata": {},
   "outputs": [
    {
     "data": {
      "text/html": [
       "<div>\n",
       "<style scoped>\n",
       "    .dataframe tbody tr th:only-of-type {\n",
       "        vertical-align: middle;\n",
       "    }\n",
       "\n",
       "    .dataframe tbody tr th {\n",
       "        vertical-align: top;\n",
       "    }\n",
       "\n",
       "    .dataframe thead th {\n",
       "        text-align: right;\n",
       "    }\n",
       "</style>\n",
       "<table border=\"1\" class=\"dataframe\">\n",
       "  <thead>\n",
       "    <tr style=\"text-align: right;\">\n",
       "      <th></th>\n",
       "      <th>Date</th>\n",
       "      <th>Deaths</th>\n",
       "    </tr>\n",
       "  </thead>\n",
       "  <tbody>\n",
       "    <tr>\n",
       "      <th>0</th>\n",
       "      <td>2020-01-22</td>\n",
       "      <td>17</td>\n",
       "    </tr>\n",
       "    <tr>\n",
       "      <th>1</th>\n",
       "      <td>2020-01-23</td>\n",
       "      <td>18</td>\n",
       "    </tr>\n",
       "    <tr>\n",
       "      <th>2</th>\n",
       "      <td>2020-01-24</td>\n",
       "      <td>26</td>\n",
       "    </tr>\n",
       "    <tr>\n",
       "      <th>3</th>\n",
       "      <td>2020-01-25</td>\n",
       "      <td>42</td>\n",
       "    </tr>\n",
       "    <tr>\n",
       "      <th>4</th>\n",
       "      <td>2020-01-26</td>\n",
       "      <td>56</td>\n",
       "    </tr>\n",
       "  </tbody>\n",
       "</table>\n",
       "</div>"
      ],
      "text/plain": [
       "        Date  Deaths\n",
       "0 2020-01-22      17\n",
       "1 2020-01-23      18\n",
       "2 2020-01-24      26\n",
       "3 2020-01-25      42\n",
       "4 2020-01-26      56"
      ]
     },
     "execution_count": 22,
     "metadata": {},
     "output_type": "execute_result"
    }
   ],
   "source": [
    "confirmed = df.groupby('Date').sum()['Confirmed'].reset_index()\n",
    "recovered = df.groupby('Date').sum()['Recovered'].reset_index()\n",
    "deaths = df.groupby('Date').sum()['Deaths'].reset_index()\n",
    "deaths.head()"
   ]
  },
  {
   "cell_type": "code",
   "execution_count": null,
   "id": "ee8ddcad",
   "metadata": {},
   "outputs": [],
   "source": []
  },
  {
   "cell_type": "code",
   "execution_count": 23,
   "id": "84a02bb6",
   "metadata": {},
   "outputs": [
    {
     "data": {
      "text/plain": [
       "Date              0\n",
       "Province/State    0\n",
       "Country           0\n",
       "Lat               0\n",
       "Long              0\n",
       "Confirmed         0\n",
       "Recovered         0\n",
       "Deaths            0\n",
       "Active            0\n",
       "dtype: int64"
      ]
     },
     "execution_count": 23,
     "metadata": {},
     "output_type": "execute_result"
    }
   ],
   "source": [
    "df.isnull().sum()"
   ]
  },
  {
   "cell_type": "code",
   "execution_count": 24,
   "id": "f942c7ae",
   "metadata": {},
   "outputs": [
    {
     "name": "stdout",
     "output_type": "stream",
     "text": [
      "<class 'pandas.core.frame.DataFrame'>\n",
      "RangeIndex: 175275 entries, 0 to 175274\n",
      "Data columns (total 9 columns):\n",
      " #   Column          Non-Null Count   Dtype         \n",
      "---  ------          --------------   -----         \n",
      " 0   Date            175275 non-null  datetime64[ns]\n",
      " 1   Province/State  175275 non-null  object        \n",
      " 2   Country         175275 non-null  object        \n",
      " 3   Lat             175275 non-null  float64       \n",
      " 4   Long            175275 non-null  float64       \n",
      " 5   Confirmed       175275 non-null  int64         \n",
      " 6   Recovered       175275 non-null  int64         \n",
      " 7   Deaths          175275 non-null  int64         \n",
      " 8   Active          175275 non-null  int64         \n",
      "dtypes: datetime64[ns](1), float64(2), int64(4), object(2)\n",
      "memory usage: 12.0+ MB\n"
     ]
    }
   ],
   "source": [
    "df.info()"
   ]
  },
  {
   "cell_type": "code",
   "execution_count": 25,
   "id": "38a53576",
   "metadata": {},
   "outputs": [
    {
     "data": {
      "text/html": [
       "<div>\n",
       "<style scoped>\n",
       "    .dataframe tbody tr th:only-of-type {\n",
       "        vertical-align: middle;\n",
       "    }\n",
       "\n",
       "    .dataframe tbody tr th {\n",
       "        vertical-align: top;\n",
       "    }\n",
       "\n",
       "    .dataframe thead th {\n",
       "        text-align: right;\n",
       "    }\n",
       "</style>\n",
       "<table border=\"1\" class=\"dataframe\">\n",
       "  <thead>\n",
       "    <tr style=\"text-align: right;\">\n",
       "      <th></th>\n",
       "      <th>Date</th>\n",
       "      <th>Province/State</th>\n",
       "      <th>Country</th>\n",
       "      <th>Lat</th>\n",
       "      <th>Long</th>\n",
       "      <th>Confirmed</th>\n",
       "      <th>Recovered</th>\n",
       "      <th>Deaths</th>\n",
       "      <th>Active</th>\n",
       "    </tr>\n",
       "  </thead>\n",
       "  <tbody>\n",
       "    <tr>\n",
       "      <th>156210</th>\n",
       "      <td>2020-01-22</td>\n",
       "      <td></td>\n",
       "      <td>US</td>\n",
       "      <td>40.0</td>\n",
       "      <td>-100.0</td>\n",
       "      <td>1</td>\n",
       "      <td>0</td>\n",
       "      <td>0</td>\n",
       "      <td>1</td>\n",
       "    </tr>\n",
       "    <tr>\n",
       "      <th>156211</th>\n",
       "      <td>2020-01-23</td>\n",
       "      <td></td>\n",
       "      <td>US</td>\n",
       "      <td>40.0</td>\n",
       "      <td>-100.0</td>\n",
       "      <td>1</td>\n",
       "      <td>0</td>\n",
       "      <td>0</td>\n",
       "      <td>1</td>\n",
       "    </tr>\n",
       "    <tr>\n",
       "      <th>156212</th>\n",
       "      <td>2020-01-24</td>\n",
       "      <td></td>\n",
       "      <td>US</td>\n",
       "      <td>40.0</td>\n",
       "      <td>-100.0</td>\n",
       "      <td>2</td>\n",
       "      <td>0</td>\n",
       "      <td>0</td>\n",
       "      <td>2</td>\n",
       "    </tr>\n",
       "    <tr>\n",
       "      <th>156213</th>\n",
       "      <td>2020-01-25</td>\n",
       "      <td></td>\n",
       "      <td>US</td>\n",
       "      <td>40.0</td>\n",
       "      <td>-100.0</td>\n",
       "      <td>2</td>\n",
       "      <td>0</td>\n",
       "      <td>0</td>\n",
       "      <td>2</td>\n",
       "    </tr>\n",
       "    <tr>\n",
       "      <th>156214</th>\n",
       "      <td>2020-01-26</td>\n",
       "      <td></td>\n",
       "      <td>US</td>\n",
       "      <td>40.0</td>\n",
       "      <td>-100.0</td>\n",
       "      <td>5</td>\n",
       "      <td>0</td>\n",
       "      <td>0</td>\n",
       "      <td>5</td>\n",
       "    </tr>\n",
       "    <tr>\n",
       "      <th>...</th>\n",
       "      <td>...</td>\n",
       "      <td>...</td>\n",
       "      <td>...</td>\n",
       "      <td>...</td>\n",
       "      <td>...</td>\n",
       "      <td>...</td>\n",
       "      <td>...</td>\n",
       "      <td>...</td>\n",
       "      <td>...</td>\n",
       "    </tr>\n",
       "    <tr>\n",
       "      <th>156820</th>\n",
       "      <td>2021-09-23</td>\n",
       "      <td></td>\n",
       "      <td>US</td>\n",
       "      <td>40.0</td>\n",
       "      <td>-100.0</td>\n",
       "      <td>42675416</td>\n",
       "      <td>0</td>\n",
       "      <td>684573</td>\n",
       "      <td>41990843</td>\n",
       "    </tr>\n",
       "    <tr>\n",
       "      <th>156821</th>\n",
       "      <td>2021-09-24</td>\n",
       "      <td></td>\n",
       "      <td>US</td>\n",
       "      <td>40.0</td>\n",
       "      <td>-100.0</td>\n",
       "      <td>42852871</td>\n",
       "      <td>0</td>\n",
       "      <td>687084</td>\n",
       "      <td>42165787</td>\n",
       "    </tr>\n",
       "    <tr>\n",
       "      <th>156822</th>\n",
       "      <td>2021-09-25</td>\n",
       "      <td></td>\n",
       "      <td>US</td>\n",
       "      <td>40.0</td>\n",
       "      <td>-100.0</td>\n",
       "      <td>42900402</td>\n",
       "      <td>0</td>\n",
       "      <td>687746</td>\n",
       "      <td>42212656</td>\n",
       "    </tr>\n",
       "    <tr>\n",
       "      <th>156823</th>\n",
       "      <td>2021-09-26</td>\n",
       "      <td></td>\n",
       "      <td>US</td>\n",
       "      <td>40.0</td>\n",
       "      <td>-100.0</td>\n",
       "      <td>42931354</td>\n",
       "      <td>0</td>\n",
       "      <td>688032</td>\n",
       "      <td>42243322</td>\n",
       "    </tr>\n",
       "    <tr>\n",
       "      <th>156824</th>\n",
       "      <td>2021-09-27</td>\n",
       "      <td></td>\n",
       "      <td>US</td>\n",
       "      <td>40.0</td>\n",
       "      <td>-100.0</td>\n",
       "      <td>43116432</td>\n",
       "      <td>0</td>\n",
       "      <td>690426</td>\n",
       "      <td>42426006</td>\n",
       "    </tr>\n",
       "  </tbody>\n",
       "</table>\n",
       "<p>615 rows × 9 columns</p>\n",
       "</div>"
      ],
      "text/plain": [
       "             Date Province/State Country   Lat   Long  Confirmed  Recovered  \\\n",
       "156210 2020-01-22                     US  40.0 -100.0          1          0   \n",
       "156211 2020-01-23                     US  40.0 -100.0          1          0   \n",
       "156212 2020-01-24                     US  40.0 -100.0          2          0   \n",
       "156213 2020-01-25                     US  40.0 -100.0          2          0   \n",
       "156214 2020-01-26                     US  40.0 -100.0          5          0   \n",
       "...           ...            ...     ...   ...    ...        ...        ...   \n",
       "156820 2021-09-23                     US  40.0 -100.0   42675416          0   \n",
       "156821 2021-09-24                     US  40.0 -100.0   42852871          0   \n",
       "156822 2021-09-25                     US  40.0 -100.0   42900402          0   \n",
       "156823 2021-09-26                     US  40.0 -100.0   42931354          0   \n",
       "156824 2021-09-27                     US  40.0 -100.0   43116432          0   \n",
       "\n",
       "        Deaths    Active  \n",
       "156210       0         1  \n",
       "156211       0         1  \n",
       "156212       0         2  \n",
       "156213       0         2  \n",
       "156214       0         5  \n",
       "...        ...       ...  \n",
       "156820  684573  41990843  \n",
       "156821  687084  42165787  \n",
       "156822  687746  42212656  \n",
       "156823  688032  42243322  \n",
       "156824  690426  42426006  \n",
       "\n",
       "[615 rows x 9 columns]"
      ]
     },
     "execution_count": 25,
     "metadata": {},
     "output_type": "execute_result"
    }
   ],
   "source": [
    "df.query('Country == \"US\"')"
   ]
  },
  {
   "cell_type": "code",
   "execution_count": null,
   "id": "8ead0fc9",
   "metadata": {},
   "outputs": [],
   "source": []
  },
  {
   "cell_type": "markdown",
   "id": "5be6122d",
   "metadata": {},
   "source": [
    "## Worldwide Total Confirmed, Recovered and Deaths"
   ]
  },
  {
   "cell_type": "code",
   "execution_count": 26,
   "id": "eccd96eb",
   "metadata": {},
   "outputs": [
    {
     "data": {
      "text/html": [
       "<div>\n",
       "<style scoped>\n",
       "    .dataframe tbody tr th:only-of-type {\n",
       "        vertical-align: middle;\n",
       "    }\n",
       "\n",
       "    .dataframe tbody tr th {\n",
       "        vertical-align: top;\n",
       "    }\n",
       "\n",
       "    .dataframe thead th {\n",
       "        text-align: right;\n",
       "    }\n",
       "</style>\n",
       "<table border=\"1\" class=\"dataframe\">\n",
       "  <thead>\n",
       "    <tr style=\"text-align: right;\">\n",
       "      <th></th>\n",
       "      <th>Date</th>\n",
       "      <th>Confirmed</th>\n",
       "    </tr>\n",
       "  </thead>\n",
       "  <tbody>\n",
       "    <tr>\n",
       "      <th>610</th>\n",
       "      <td>2021-09-23</td>\n",
       "      <td>230604728</td>\n",
       "    </tr>\n",
       "    <tr>\n",
       "      <th>611</th>\n",
       "      <td>2021-09-24</td>\n",
       "      <td>231152493</td>\n",
       "    </tr>\n",
       "    <tr>\n",
       "      <th>612</th>\n",
       "      <td>2021-09-25</td>\n",
       "      <td>231515976</td>\n",
       "    </tr>\n",
       "    <tr>\n",
       "      <th>613</th>\n",
       "      <td>2021-09-26</td>\n",
       "      <td>231846936</td>\n",
       "    </tr>\n",
       "    <tr>\n",
       "      <th>614</th>\n",
       "      <td>2021-09-27</td>\n",
       "      <td>232316272</td>\n",
       "    </tr>\n",
       "  </tbody>\n",
       "</table>\n",
       "</div>"
      ],
      "text/plain": [
       "          Date  Confirmed\n",
       "610 2021-09-23  230604728\n",
       "611 2021-09-24  231152493\n",
       "612 2021-09-25  231515976\n",
       "613 2021-09-26  231846936\n",
       "614 2021-09-27  232316272"
      ]
     },
     "execution_count": 26,
     "metadata": {},
     "output_type": "execute_result"
    }
   ],
   "source": [
    "confirmed.tail()"
   ]
  },
  {
   "cell_type": "code",
   "execution_count": 27,
   "id": "b558368c",
   "metadata": {},
   "outputs": [
    {
     "data": {
      "text/html": [
       "<div>\n",
       "<style scoped>\n",
       "    .dataframe tbody tr th:only-of-type {\n",
       "        vertical-align: middle;\n",
       "    }\n",
       "\n",
       "    .dataframe tbody tr th {\n",
       "        vertical-align: top;\n",
       "    }\n",
       "\n",
       "    .dataframe thead th {\n",
       "        text-align: right;\n",
       "    }\n",
       "</style>\n",
       "<table border=\"1\" class=\"dataframe\">\n",
       "  <thead>\n",
       "    <tr style=\"text-align: right;\">\n",
       "      <th></th>\n",
       "      <th>Date</th>\n",
       "      <th>Recovered</th>\n",
       "    </tr>\n",
       "  </thead>\n",
       "  <tbody>\n",
       "    <tr>\n",
       "      <th>610</th>\n",
       "      <td>2021-09-23</td>\n",
       "      <td>0</td>\n",
       "    </tr>\n",
       "    <tr>\n",
       "      <th>611</th>\n",
       "      <td>2021-09-24</td>\n",
       "      <td>0</td>\n",
       "    </tr>\n",
       "    <tr>\n",
       "      <th>612</th>\n",
       "      <td>2021-09-25</td>\n",
       "      <td>0</td>\n",
       "    </tr>\n",
       "    <tr>\n",
       "      <th>613</th>\n",
       "      <td>2021-09-26</td>\n",
       "      <td>0</td>\n",
       "    </tr>\n",
       "    <tr>\n",
       "      <th>614</th>\n",
       "      <td>2021-09-27</td>\n",
       "      <td>0</td>\n",
       "    </tr>\n",
       "  </tbody>\n",
       "</table>\n",
       "</div>"
      ],
      "text/plain": [
       "          Date  Recovered\n",
       "610 2021-09-23          0\n",
       "611 2021-09-24          0\n",
       "612 2021-09-25          0\n",
       "613 2021-09-26          0\n",
       "614 2021-09-27          0"
      ]
     },
     "execution_count": 27,
     "metadata": {},
     "output_type": "execute_result"
    }
   ],
   "source": [
    "recovered.tail()"
   ]
  },
  {
   "cell_type": "code",
   "execution_count": 28,
   "id": "c2b76384",
   "metadata": {
    "scrolled": true
   },
   "outputs": [
    {
     "data": {
      "text/html": [
       "<div>\n",
       "<style scoped>\n",
       "    .dataframe tbody tr th:only-of-type {\n",
       "        vertical-align: middle;\n",
       "    }\n",
       "\n",
       "    .dataframe tbody tr th {\n",
       "        vertical-align: top;\n",
       "    }\n",
       "\n",
       "    .dataframe thead th {\n",
       "        text-align: right;\n",
       "    }\n",
       "</style>\n",
       "<table border=\"1\" class=\"dataframe\">\n",
       "  <thead>\n",
       "    <tr style=\"text-align: right;\">\n",
       "      <th></th>\n",
       "      <th>Date</th>\n",
       "      <th>Deaths</th>\n",
       "    </tr>\n",
       "  </thead>\n",
       "  <tbody>\n",
       "    <tr>\n",
       "      <th>610</th>\n",
       "      <td>2021-09-23</td>\n",
       "      <td>4729076</td>\n",
       "    </tr>\n",
       "    <tr>\n",
       "      <th>611</th>\n",
       "      <td>2021-09-24</td>\n",
       "      <td>4737904</td>\n",
       "    </tr>\n",
       "    <tr>\n",
       "      <th>612</th>\n",
       "      <td>2021-09-25</td>\n",
       "      <td>4743196</td>\n",
       "    </tr>\n",
       "    <tr>\n",
       "      <th>613</th>\n",
       "      <td>2021-09-26</td>\n",
       "      <td>4748335</td>\n",
       "    </tr>\n",
       "    <tr>\n",
       "      <th>614</th>\n",
       "      <td>2021-09-27</td>\n",
       "      <td>4756251</td>\n",
       "    </tr>\n",
       "  </tbody>\n",
       "</table>\n",
       "</div>"
      ],
      "text/plain": [
       "          Date   Deaths\n",
       "610 2021-09-23  4729076\n",
       "611 2021-09-24  4737904\n",
       "612 2021-09-25  4743196\n",
       "613 2021-09-26  4748335\n",
       "614 2021-09-27  4756251"
      ]
     },
     "execution_count": 28,
     "metadata": {},
     "output_type": "execute_result"
    }
   ],
   "source": [
    "deaths.tail()"
   ]
  },
  {
   "cell_type": "code",
   "execution_count": 9,
   "id": "3adc7f34",
   "metadata": {
    "scrolled": true
   },
   "outputs": [],
   "source": [
    "# fig = go.Figure()\n",
    "\n",
    "# fig.add_trace(go.Scatter(x = confirmed['Date'], y = confirmed['Confirmed'], mode = 'lines+markers', name = 'Confirmed', line = dict(color = \"Orange\", width = 2)))\n",
    "# fig.add_trace(go.Scatter(x = recovered['Date'], y = recovered['Recovered'], mode = 'lines+markers', name = 'Recovered', line = dict(color = \"Green\", width = 2)))\n",
    "# fig.add_trace(go.Scatter(x = deaths['Date'], y = deaths['Deaths'], mode = 'lines+markers', name = 'Deaths', line = dict(color = \"Red\", width = 2)))\n",
    "# fig.update_layout(title = 'Worldwide COVID-19 Cases', xaxis_tickfont_size = 14, yaxis = dict(title = 'Number of Cases'))\n",
    "# fig.show()"
   ]
  },
  {
   "cell_type": "code",
   "execution_count": null,
   "id": "189d94f0",
   "metadata": {},
   "outputs": [],
   "source": []
  },
  {
   "cell_type": "markdown",
   "id": "3849d3df",
   "metadata": {},
   "source": [
    "## Cases Density Animation on World Map"
   ]
  },
  {
   "cell_type": "code",
   "execution_count": 30,
   "id": "0f7bdf96",
   "metadata": {},
   "outputs": [
    {
     "name": "stdout",
     "output_type": "stream",
     "text": [
      "<class 'pandas.core.frame.DataFrame'>\n",
      "RangeIndex: 175275 entries, 0 to 175274\n",
      "Data columns (total 9 columns):\n",
      " #   Column          Non-Null Count   Dtype         \n",
      "---  ------          --------------   -----         \n",
      " 0   Date            175275 non-null  datetime64[ns]\n",
      " 1   Province/State  175275 non-null  object        \n",
      " 2   Country         175275 non-null  object        \n",
      " 3   Lat             175275 non-null  float64       \n",
      " 4   Long            175275 non-null  float64       \n",
      " 5   Confirmed       175275 non-null  int64         \n",
      " 6   Recovered       175275 non-null  int64         \n",
      " 7   Deaths          175275 non-null  int64         \n",
      " 8   Active          175275 non-null  int64         \n",
      "dtypes: datetime64[ns](1), float64(2), int64(4), object(2)\n",
      "memory usage: 12.0+ MB\n"
     ]
    }
   ],
   "source": [
    "df.info()"
   ]
  },
  {
   "cell_type": "code",
   "execution_count": 31,
   "id": "e90a6537",
   "metadata": {},
   "outputs": [],
   "source": [
    "df['Date'] = df['Date'].astype(str)"
   ]
  },
  {
   "cell_type": "code",
   "execution_count": 32,
   "id": "698a3467",
   "metadata": {},
   "outputs": [
    {
     "name": "stdout",
     "output_type": "stream",
     "text": [
      "<class 'pandas.core.frame.DataFrame'>\n",
      "RangeIndex: 175275 entries, 0 to 175274\n",
      "Data columns (total 9 columns):\n",
      " #   Column          Non-Null Count   Dtype  \n",
      "---  ------          --------------   -----  \n",
      " 0   Date            175275 non-null  object \n",
      " 1   Province/State  175275 non-null  object \n",
      " 2   Country         175275 non-null  object \n",
      " 3   Lat             175275 non-null  float64\n",
      " 4   Long            175275 non-null  float64\n",
      " 5   Confirmed       175275 non-null  int64  \n",
      " 6   Recovered       175275 non-null  int64  \n",
      " 7   Deaths          175275 non-null  int64  \n",
      " 8   Active          175275 non-null  int64  \n",
      "dtypes: float64(2), int64(4), object(3)\n",
      "memory usage: 12.0+ MB\n"
     ]
    }
   ],
   "source": [
    "df.info()"
   ]
  },
  {
   "cell_type": "code",
   "execution_count": 8,
   "id": "1bd5a126",
   "metadata": {},
   "outputs": [],
   "source": [
    "# fig = px.density_mapbox(df, lat = 'Lat', lon = 'Long', hover_name = 'Country', hover_data = ['Confirmed', 'Recovered', 'Deaths'], animation_frame = 'Date', color_continuous_scale = 'Portland', radius = 7, zoom = 0, height = 700)\n",
    "# fig.update_layout(title = 'Worldwide COVID-19 Cases with Time Laps')\n",
    "# fig.update_layout(mapbox_style = 'open-street-map', mapbox_center_lon = 0)\n",
    "# fig.show()"
   ]
  },
  {
   "cell_type": "code",
   "execution_count": null,
   "id": "609f8aff",
   "metadata": {},
   "outputs": [],
   "source": []
  },
  {
   "cell_type": "markdown",
   "id": "99360bfe",
   "metadata": {},
   "source": [
    "## Total Cases on Ships"
   ]
  },
  {
   "cell_type": "code",
   "execution_count": 34,
   "id": "648bf720",
   "metadata": {},
   "outputs": [
    {
     "name": "stdout",
     "output_type": "stream",
     "text": [
      "<class 'pandas.core.frame.DataFrame'>\n",
      "RangeIndex: 175275 entries, 0 to 175274\n",
      "Data columns (total 9 columns):\n",
      " #   Column          Non-Null Count   Dtype         \n",
      "---  ------          --------------   -----         \n",
      " 0   Date            175275 non-null  datetime64[ns]\n",
      " 1   Province/State  175275 non-null  object        \n",
      " 2   Country         175275 non-null  object        \n",
      " 3   Lat             175275 non-null  float64       \n",
      " 4   Long            175275 non-null  float64       \n",
      " 5   Confirmed       175275 non-null  int64         \n",
      " 6   Recovered       175275 non-null  int64         \n",
      " 7   Deaths          175275 non-null  int64         \n",
      " 8   Active          175275 non-null  int64         \n",
      "dtypes: datetime64[ns](1), float64(2), int64(4), object(2)\n",
      "memory usage: 12.0+ MB\n"
     ]
    }
   ],
   "source": [
    "df['Date'] = pd.to_datetime(df['Date'])\n",
    "df.info()"
   ]
  },
  {
   "cell_type": "code",
   "execution_count": 10,
   "id": "65b424c4",
   "metadata": {},
   "outputs": [],
   "source": [
    "# ship_rows = df['Province/State'].str.contains('Grand Princess') | df['Province/State'].str.contains('Diamond Princess') | df['Country'].str.contains('Grand Princess') | df['Country'].str.contains('Diamond Princess') | df['Country'].str.contains('MS Zaandam')\n",
    "# ship = df[ship_rows]\n",
    "\n",
    "# df = df[~ship_rows]"
   ]
  },
  {
   "cell_type": "code",
   "execution_count": 42,
   "id": "4443d63e",
   "metadata": {},
   "outputs": [
    {
     "data": {
      "text/html": [
       "<div>\n",
       "<style scoped>\n",
       "    .dataframe tbody tr th:only-of-type {\n",
       "        vertical-align: middle;\n",
       "    }\n",
       "\n",
       "    .dataframe tbody tr th {\n",
       "        vertical-align: top;\n",
       "    }\n",
       "\n",
       "    .dataframe thead th {\n",
       "        text-align: right;\n",
       "    }\n",
       "</style>\n",
       "<table border=\"1\" class=\"dataframe\">\n",
       "  <thead>\n",
       "    <tr style=\"text-align: right;\">\n",
       "      <th></th>\n",
       "      <th>Date</th>\n",
       "      <th>Province/State</th>\n",
       "      <th>Country</th>\n",
       "      <th>Lat</th>\n",
       "      <th>Long</th>\n",
       "      <th>Confirmed</th>\n",
       "      <th>Recovered</th>\n",
       "      <th>Deaths</th>\n",
       "      <th>Active</th>\n",
       "    </tr>\n",
       "  </thead>\n",
       "  <tbody>\n",
       "    <tr>\n",
       "      <th>25829</th>\n",
       "      <td>2021-09-27</td>\n",
       "      <td>Diamond Princess</td>\n",
       "      <td>Canada</td>\n",
       "      <td>0.0</td>\n",
       "      <td>0.0</td>\n",
       "      <td>0</td>\n",
       "      <td>0</td>\n",
       "      <td>1</td>\n",
       "      <td>-1</td>\n",
       "    </tr>\n",
       "    <tr>\n",
       "      <th>26444</th>\n",
       "      <td>2021-09-27</td>\n",
       "      <td>Grand Princess</td>\n",
       "      <td>Canada</td>\n",
       "      <td>0.0</td>\n",
       "      <td>0.0</td>\n",
       "      <td>13</td>\n",
       "      <td>0</td>\n",
       "      <td>0</td>\n",
       "      <td>13</td>\n",
       "    </tr>\n",
       "    <tr>\n",
       "      <th>65189</th>\n",
       "      <td>2021-09-27</td>\n",
       "      <td></td>\n",
       "      <td>Diamond Princess</td>\n",
       "      <td>0.0</td>\n",
       "      <td>0.0</td>\n",
       "      <td>712</td>\n",
       "      <td>0</td>\n",
       "      <td>13</td>\n",
       "      <td>699</td>\n",
       "    </tr>\n",
       "    <tr>\n",
       "      <th>107009</th>\n",
       "      <td>2021-09-27</td>\n",
       "      <td></td>\n",
       "      <td>MS Zaandam</td>\n",
       "      <td>0.0</td>\n",
       "      <td>0.0</td>\n",
       "      <td>9</td>\n",
       "      <td>0</td>\n",
       "      <td>2</td>\n",
       "      <td>7</td>\n",
       "    </tr>\n",
       "  </tbody>\n",
       "</table>\n",
       "</div>"
      ],
      "text/plain": [
       "             Date    Province/State           Country  Lat  Long  Confirmed  \\\n",
       "25829  2021-09-27  Diamond Princess            Canada  0.0   0.0          0   \n",
       "26444  2021-09-27    Grand Princess            Canada  0.0   0.0         13   \n",
       "65189  2021-09-27                    Diamond Princess  0.0   0.0        712   \n",
       "107009 2021-09-27                          MS Zaandam  0.0   0.0          9   \n",
       "\n",
       "        Recovered  Deaths  Active  \n",
       "25829           0       1      -1  \n",
       "26444           0       0      13  \n",
       "65189           0      13     699  \n",
       "107009          0       2       7  "
      ]
     },
     "execution_count": 42,
     "metadata": {},
     "output_type": "execute_result"
    }
   ],
   "source": [
    "ship_latest= ship[ship['Date'] == max(ship['Date'])]\n",
    "ship_latest"
   ]
  },
  {
   "cell_type": "code",
   "execution_count": 43,
   "id": "892ae9a3",
   "metadata": {},
   "outputs": [
    {
     "data": {
      "text/html": [
       "<style  type=\"text/css\" >\n",
       "#T_56db8_row0_col3,#T_56db8_row0_col4,#T_56db8_row0_col5,#T_56db8_row0_col6,#T_56db8_row0_col7,#T_56db8_row0_col8,#T_56db8_row1_col3,#T_56db8_row1_col4,#T_56db8_row1_col5,#T_56db8_row1_col6,#T_56db8_row1_col7,#T_56db8_row1_col8,#T_56db8_row2_col3,#T_56db8_row2_col4,#T_56db8_row2_col6,#T_56db8_row3_col3,#T_56db8_row3_col4,#T_56db8_row3_col5,#T_56db8_row3_col6,#T_56db8_row3_col8{\n",
       "            background-color:  #f2f2f2;\n",
       "            color:  #000000;\n",
       "        }#T_56db8_row2_col5,#T_56db8_row2_col7,#T_56db8_row2_col8{\n",
       "            background-color:  #fbb4ae;\n",
       "            color:  #000000;\n",
       "        }#T_56db8_row3_col7{\n",
       "            background-color:  #fddaec;\n",
       "            color:  #000000;\n",
       "        }</style><table id=\"T_56db8_\" ><thead>    <tr>        <th class=\"blank level0\" ></th>        <th class=\"col_heading level0 col0\" >Date</th>        <th class=\"col_heading level0 col1\" >Province/State</th>        <th class=\"col_heading level0 col2\" >Country</th>        <th class=\"col_heading level0 col3\" >Lat</th>        <th class=\"col_heading level0 col4\" >Long</th>        <th class=\"col_heading level0 col5\" >Confirmed</th>        <th class=\"col_heading level0 col6\" >Recovered</th>        <th class=\"col_heading level0 col7\" >Deaths</th>        <th class=\"col_heading level0 col8\" >Active</th>    </tr></thead><tbody>\n",
       "                <tr>\n",
       "                        <th id=\"T_56db8_level0_row0\" class=\"row_heading level0 row0\" >25829</th>\n",
       "                        <td id=\"T_56db8_row0_col0\" class=\"data row0 col0\" >2021-09-27 00:00:00</td>\n",
       "                        <td id=\"T_56db8_row0_col1\" class=\"data row0 col1\" >Diamond Princess</td>\n",
       "                        <td id=\"T_56db8_row0_col2\" class=\"data row0 col2\" >Canada</td>\n",
       "                        <td id=\"T_56db8_row0_col3\" class=\"data row0 col3\" >0.000000</td>\n",
       "                        <td id=\"T_56db8_row0_col4\" class=\"data row0 col4\" >0.000000</td>\n",
       "                        <td id=\"T_56db8_row0_col5\" class=\"data row0 col5\" >0</td>\n",
       "                        <td id=\"T_56db8_row0_col6\" class=\"data row0 col6\" >0</td>\n",
       "                        <td id=\"T_56db8_row0_col7\" class=\"data row0 col7\" >1</td>\n",
       "                        <td id=\"T_56db8_row0_col8\" class=\"data row0 col8\" >-1</td>\n",
       "            </tr>\n",
       "            <tr>\n",
       "                        <th id=\"T_56db8_level0_row1\" class=\"row_heading level0 row1\" >26444</th>\n",
       "                        <td id=\"T_56db8_row1_col0\" class=\"data row1 col0\" >2021-09-27 00:00:00</td>\n",
       "                        <td id=\"T_56db8_row1_col1\" class=\"data row1 col1\" >Grand Princess</td>\n",
       "                        <td id=\"T_56db8_row1_col2\" class=\"data row1 col2\" >Canada</td>\n",
       "                        <td id=\"T_56db8_row1_col3\" class=\"data row1 col3\" >0.000000</td>\n",
       "                        <td id=\"T_56db8_row1_col4\" class=\"data row1 col4\" >0.000000</td>\n",
       "                        <td id=\"T_56db8_row1_col5\" class=\"data row1 col5\" >13</td>\n",
       "                        <td id=\"T_56db8_row1_col6\" class=\"data row1 col6\" >0</td>\n",
       "                        <td id=\"T_56db8_row1_col7\" class=\"data row1 col7\" >0</td>\n",
       "                        <td id=\"T_56db8_row1_col8\" class=\"data row1 col8\" >13</td>\n",
       "            </tr>\n",
       "            <tr>\n",
       "                        <th id=\"T_56db8_level0_row2\" class=\"row_heading level0 row2\" >65189</th>\n",
       "                        <td id=\"T_56db8_row2_col0\" class=\"data row2 col0\" >2021-09-27 00:00:00</td>\n",
       "                        <td id=\"T_56db8_row2_col1\" class=\"data row2 col1\" ></td>\n",
       "                        <td id=\"T_56db8_row2_col2\" class=\"data row2 col2\" >Diamond Princess</td>\n",
       "                        <td id=\"T_56db8_row2_col3\" class=\"data row2 col3\" >0.000000</td>\n",
       "                        <td id=\"T_56db8_row2_col4\" class=\"data row2 col4\" >0.000000</td>\n",
       "                        <td id=\"T_56db8_row2_col5\" class=\"data row2 col5\" >712</td>\n",
       "                        <td id=\"T_56db8_row2_col6\" class=\"data row2 col6\" >0</td>\n",
       "                        <td id=\"T_56db8_row2_col7\" class=\"data row2 col7\" >13</td>\n",
       "                        <td id=\"T_56db8_row2_col8\" class=\"data row2 col8\" >699</td>\n",
       "            </tr>\n",
       "            <tr>\n",
       "                        <th id=\"T_56db8_level0_row3\" class=\"row_heading level0 row3\" >107009</th>\n",
       "                        <td id=\"T_56db8_row3_col0\" class=\"data row3 col0\" >2021-09-27 00:00:00</td>\n",
       "                        <td id=\"T_56db8_row3_col1\" class=\"data row3 col1\" ></td>\n",
       "                        <td id=\"T_56db8_row3_col2\" class=\"data row3 col2\" >MS Zaandam</td>\n",
       "                        <td id=\"T_56db8_row3_col3\" class=\"data row3 col3\" >0.000000</td>\n",
       "                        <td id=\"T_56db8_row3_col4\" class=\"data row3 col4\" >0.000000</td>\n",
       "                        <td id=\"T_56db8_row3_col5\" class=\"data row3 col5\" >9</td>\n",
       "                        <td id=\"T_56db8_row3_col6\" class=\"data row3 col6\" >0</td>\n",
       "                        <td id=\"T_56db8_row3_col7\" class=\"data row3 col7\" >2</td>\n",
       "                        <td id=\"T_56db8_row3_col8\" class=\"data row3 col8\" >7</td>\n",
       "            </tr>\n",
       "    </tbody></table>"
      ],
      "text/plain": [
       "<pandas.io.formats.style.Styler at 0x14f0022b820>"
      ]
     },
     "execution_count": 43,
     "metadata": {},
     "output_type": "execute_result"
    }
   ],
   "source": [
    "ship_latest.style.background_gradient(cmap = 'Pastel1_r')"
   ]
  },
  {
   "cell_type": "code",
   "execution_count": null,
   "id": "a44a1581",
   "metadata": {},
   "outputs": [],
   "source": []
  },
  {
   "cell_type": "markdown",
   "id": "df9d8afa",
   "metadata": {},
   "source": [
    "## Cases Over the Time with Area Plot"
   ]
  },
  {
   "cell_type": "code",
   "execution_count": 7,
   "id": "2cc3866b",
   "metadata": {},
   "outputs": [],
   "source": [
    "# temp = df.groupby('Date')['Confirmed', 'Deaths', 'Recovered', 'Active'].sum().reset_index()\n",
    "# temp = temp[temp['Date'] == max(temp['Date'])].reset_index(drop = True)\n",
    "\n",
    "# temp\n",
    "# tm = temp.melt(id_vars = 'Date', value_vars = ['Active', 'Deaths', 'Recovered'])\n",
    "# fig = px.treemap(tm, path = ['variable'], values = 'value', height = 250, width = 800, color_discrete_sequence = [act,rec, dtf])\n",
    "\n",
    "# fig.data[0].textinfo = 'label+text+value'\n",
    "# fig.show()"
   ]
  },
  {
   "cell_type": "code",
   "execution_count": 6,
   "id": "38fe3e19",
   "metadata": {},
   "outputs": [],
   "source": [
    "# temp = df.groupby('Date')['Recovered', 'Deaths', 'Active'].sum().reset_index()\n",
    "# temp = temp.melt(id_vars = 'Date', value_vars = ['Recovered', 'Deaths', 'Active'], var_name = 'Case', value_name = 'Count')\n",
    "\n",
    "# fig = px.area(temp, x = 'Date', y = 'Count', color = 'Case', height = 400, title = 'Cases over time', color_discrete_sequence = [rec, dtf, act])\n",
    "# fig.update_layout(xaxis_rangeslider_visible = True)\n",
    "# fig.show()"
   ]
  },
  {
   "cell_type": "code",
   "execution_count": null,
   "id": "42a458d7",
   "metadata": {},
   "outputs": [],
   "source": []
  },
  {
   "cell_type": "markdown",
   "id": "378ee990",
   "metadata": {},
   "source": [
    "## Folium Maps"
   ]
  },
  {
   "cell_type": "code",
   "execution_count": 61,
   "id": "22240cb1",
   "metadata": {},
   "outputs": [],
   "source": [
    "# Worldwise Cases on Folium Maps"
   ]
  },
  {
   "cell_type": "code",
   "execution_count": 5,
   "id": "7cac0281",
   "metadata": {},
   "outputs": [],
   "source": [
    "# temp = df[df['Date'] == max(df['Date'])]\n",
    "\n",
    "# m = folium.Map(location=[0, 0], tiles='cartodbpositron', min_zoom = 1, max_zoom = 4, zom_start = 1)\n",
    "\n",
    "# for i in range(0, len(temp)):\n",
    "#     folium.Circle(location=[temp.iloc[i]['Lat'], temp.iloc[i]['Long']], color = 'crimson', fill = 'crimson',\n",
    "#                   tooltip = '<li><bold> Country: ' + str(temp.iloc[i]['Country'])+\n",
    "#                             '<li><bold> Province: ' + str(temp.iloc[i]['Province/State'])+\n",
    "#                             '<li><bold> Confirmed: ' + str(temp.iloc[i]['Confirmed'])+\n",
    "#                             '<li><bold> Deaths: ' + str(temp.iloc[i]['Deaths']),\n",
    "#                             radius = int(temp.iloc[i]['Confirmed'])**0.5).add_to(m)\n",
    "# m"
   ]
  },
  {
   "cell_type": "code",
   "execution_count": null,
   "id": "d0ef1770",
   "metadata": {},
   "outputs": [],
   "source": []
  },
  {
   "cell_type": "markdown",
   "id": "3271cb1a",
   "metadata": {},
   "source": [
    "## Confirmed Cases wth Choropleth Map"
   ]
  },
  {
   "cell_type": "code",
   "execution_count": 68,
   "id": "29fc5231",
   "metadata": {},
   "outputs": [
    {
     "data": {
      "text/html": [
       "<div>\n",
       "<style scoped>\n",
       "    .dataframe tbody tr th:only-of-type {\n",
       "        vertical-align: middle;\n",
       "    }\n",
       "\n",
       "    .dataframe tbody tr th {\n",
       "        vertical-align: top;\n",
       "    }\n",
       "\n",
       "    .dataframe thead th {\n",
       "        text-align: right;\n",
       "    }\n",
       "</style>\n",
       "<table border=\"1\" class=\"dataframe\">\n",
       "  <thead>\n",
       "    <tr style=\"text-align: right;\">\n",
       "      <th></th>\n",
       "      <th>Date</th>\n",
       "      <th>Country</th>\n",
       "      <th>Confirmed</th>\n",
       "      <th>Deaths</th>\n",
       "      <th>Recovered</th>\n",
       "      <th>Active</th>\n",
       "      <th>New Cases</th>\n",
       "      <th>New Recovered</th>\n",
       "      <th>New Deaths</th>\n",
       "    </tr>\n",
       "  </thead>\n",
       "  <tbody>\n",
       "    <tr>\n",
       "      <th>0</th>\n",
       "      <td>2020-01-23</td>\n",
       "      <td>Afghanistan</td>\n",
       "      <td>0</td>\n",
       "      <td>0</td>\n",
       "      <td>0</td>\n",
       "      <td>0</td>\n",
       "      <td>0</td>\n",
       "      <td>0</td>\n",
       "      <td>0</td>\n",
       "    </tr>\n",
       "    <tr>\n",
       "      <th>1</th>\n",
       "      <td>2020-01-24</td>\n",
       "      <td>Afghanistan</td>\n",
       "      <td>0</td>\n",
       "      <td>0</td>\n",
       "      <td>0</td>\n",
       "      <td>0</td>\n",
       "      <td>0</td>\n",
       "      <td>0</td>\n",
       "      <td>0</td>\n",
       "    </tr>\n",
       "    <tr>\n",
       "      <th>2</th>\n",
       "      <td>2020-01-25</td>\n",
       "      <td>Afghanistan</td>\n",
       "      <td>0</td>\n",
       "      <td>0</td>\n",
       "      <td>0</td>\n",
       "      <td>0</td>\n",
       "      <td>0</td>\n",
       "      <td>0</td>\n",
       "      <td>0</td>\n",
       "    </tr>\n",
       "    <tr>\n",
       "      <th>3</th>\n",
       "      <td>2020-01-26</td>\n",
       "      <td>Afghanistan</td>\n",
       "      <td>0</td>\n",
       "      <td>0</td>\n",
       "      <td>0</td>\n",
       "      <td>0</td>\n",
       "      <td>0</td>\n",
       "      <td>0</td>\n",
       "      <td>0</td>\n",
       "    </tr>\n",
       "    <tr>\n",
       "      <th>4</th>\n",
       "      <td>2020-01-27</td>\n",
       "      <td>Afghanistan</td>\n",
       "      <td>0</td>\n",
       "      <td>0</td>\n",
       "      <td>0</td>\n",
       "      <td>0</td>\n",
       "      <td>0</td>\n",
       "      <td>0</td>\n",
       "      <td>0</td>\n",
       "    </tr>\n",
       "  </tbody>\n",
       "</table>\n",
       "</div>"
      ],
      "text/plain": [
       "        Date      Country  Confirmed  Deaths  Recovered  Active  New Cases  \\\n",
       "0 2020-01-23  Afghanistan          0       0          0       0          0   \n",
       "1 2020-01-24  Afghanistan          0       0          0       0          0   \n",
       "2 2020-01-25  Afghanistan          0       0          0       0          0   \n",
       "3 2020-01-26  Afghanistan          0       0          0       0          0   \n",
       "4 2020-01-27  Afghanistan          0       0          0       0          0   \n",
       "\n",
       "   New Recovered  New Deaths  \n",
       "0              0           0  \n",
       "1              0           0  \n",
       "2              0           0  \n",
       "3              0           0  \n",
       "4              0           0  "
      ]
     },
     "execution_count": 68,
     "metadata": {},
     "output_type": "execute_result"
    }
   ],
   "source": [
    "country_daywise.head()"
   ]
  },
  {
   "cell_type": "code",
   "execution_count": 11,
   "id": "37d1ec73",
   "metadata": {},
   "outputs": [],
   "source": [
    "# fig = px.choropleth(country_daywise, locations = 'Country', locationmode = 'country names', color = country_daywise['Confirmed'],\n",
    "#                    hover_name = 'Country', animation_frame = country_daywise['Date'].dt.strftime(\"%Y-%m-%d\"),\n",
    "#                    title = 'Cases over time', color_continuous_scale = px.colors.sequential.Inferno)\n",
    "\n",
    "# fig.update(layout_coloraxis_showscale=True)\n",
    "# fig.show()"
   ]
  },
  {
   "cell_type": "code",
   "execution_count": null,
   "id": "5172303c",
   "metadata": {},
   "outputs": [],
   "source": []
  },
  {
   "cell_type": "markdown",
   "id": "37e4b91c",
   "metadata": {},
   "source": [
    "## Deaths and Recoveries per 100 Cases"
   ]
  },
  {
   "cell_type": "code",
   "execution_count": 76,
   "id": "127def95",
   "metadata": {},
   "outputs": [
    {
     "data": {
      "text/html": [
       "<div>\n",
       "<style scoped>\n",
       "    .dataframe tbody tr th:only-of-type {\n",
       "        vertical-align: middle;\n",
       "    }\n",
       "\n",
       "    .dataframe tbody tr th {\n",
       "        vertical-align: top;\n",
       "    }\n",
       "\n",
       "    .dataframe thead th {\n",
       "        text-align: right;\n",
       "    }\n",
       "</style>\n",
       "<table border=\"1\" class=\"dataframe\">\n",
       "  <thead>\n",
       "    <tr style=\"text-align: right;\">\n",
       "      <th></th>\n",
       "      <th>Date</th>\n",
       "      <th>Confirmed</th>\n",
       "      <th>Deaths</th>\n",
       "      <th>Recovered</th>\n",
       "      <th>Active</th>\n",
       "      <th>New Cases</th>\n",
       "      <th>Deaths / 100 Cases</th>\n",
       "      <th>Recovered / 100 Cases</th>\n",
       "      <th>Deaths / 100 Recovered</th>\n",
       "      <th>No. of Countries</th>\n",
       "    </tr>\n",
       "  </thead>\n",
       "  <tbody>\n",
       "    <tr>\n",
       "      <th>0</th>\n",
       "      <td>2020-01-23</td>\n",
       "      <td>655</td>\n",
       "      <td>18</td>\n",
       "      <td>32</td>\n",
       "      <td>605</td>\n",
       "      <td>99</td>\n",
       "      <td>2.75</td>\n",
       "      <td>4.89</td>\n",
       "      <td>56.25</td>\n",
       "      <td>8</td>\n",
       "    </tr>\n",
       "    <tr>\n",
       "      <th>1</th>\n",
       "      <td>2020-01-24</td>\n",
       "      <td>941</td>\n",
       "      <td>26</td>\n",
       "      <td>39</td>\n",
       "      <td>876</td>\n",
       "      <td>288</td>\n",
       "      <td>2.76</td>\n",
       "      <td>4.14</td>\n",
       "      <td>66.67</td>\n",
       "      <td>9</td>\n",
       "    </tr>\n",
       "    <tr>\n",
       "      <th>2</th>\n",
       "      <td>2020-01-25</td>\n",
       "      <td>1434</td>\n",
       "      <td>42</td>\n",
       "      <td>42</td>\n",
       "      <td>1350</td>\n",
       "      <td>495</td>\n",
       "      <td>2.93</td>\n",
       "      <td>2.93</td>\n",
       "      <td>100.00</td>\n",
       "      <td>11</td>\n",
       "    </tr>\n",
       "    <tr>\n",
       "      <th>3</th>\n",
       "      <td>2020-01-26</td>\n",
       "      <td>2118</td>\n",
       "      <td>56</td>\n",
       "      <td>56</td>\n",
       "      <td>2006</td>\n",
       "      <td>684</td>\n",
       "      <td>2.64</td>\n",
       "      <td>2.64</td>\n",
       "      <td>100.00</td>\n",
       "      <td>13</td>\n",
       "    </tr>\n",
       "    <tr>\n",
       "      <th>4</th>\n",
       "      <td>2020-01-27</td>\n",
       "      <td>2927</td>\n",
       "      <td>82</td>\n",
       "      <td>65</td>\n",
       "      <td>2780</td>\n",
       "      <td>809</td>\n",
       "      <td>2.80</td>\n",
       "      <td>2.22</td>\n",
       "      <td>126.15</td>\n",
       "      <td>16</td>\n",
       "    </tr>\n",
       "  </tbody>\n",
       "</table>\n",
       "</div>"
      ],
      "text/plain": [
       "        Date  Confirmed  Deaths  Recovered  Active  New Cases  \\\n",
       "0 2020-01-23        655      18         32     605         99   \n",
       "1 2020-01-24        941      26         39     876        288   \n",
       "2 2020-01-25       1434      42         42    1350        495   \n",
       "3 2020-01-26       2118      56         56    2006        684   \n",
       "4 2020-01-27       2927      82         65    2780        809   \n",
       "\n",
       "   Deaths / 100 Cases  Recovered / 100 Cases  Deaths / 100 Recovered  \\\n",
       "0                2.75                   4.89                   56.25   \n",
       "1                2.76                   4.14                   66.67   \n",
       "2                2.93                   2.93                  100.00   \n",
       "3                2.64                   2.64                  100.00   \n",
       "4                2.80                   2.22                  126.15   \n",
       "\n",
       "   No. of Countries  \n",
       "0                 8  \n",
       "1                 9  \n",
       "2                11  \n",
       "3                13  \n",
       "4                16  "
      ]
     },
     "execution_count": 76,
     "metadata": {},
     "output_type": "execute_result"
    }
   ],
   "source": [
    "daywise.head()"
   ]
  },
  {
   "cell_type": "code",
   "execution_count": 1,
   "id": "a7b89672",
   "metadata": {},
   "outputs": [],
   "source": [
    "# fig_c = px.bar(daywise, x = 'Date', y = 'Confirmed', color_discrete_sequence = [act])\n",
    "# fig_d = px.bar(daywise, x = 'Date', y = 'Deaths', color_discrete_sequence = [dtf])\n",
    "\n",
    "# fig = make_subplots(rows = 1, cols = 2, shared_xaxes = False, horizontal_spacing = 0.1,\n",
    "#                    subplot_titles = ('Confirmed Cases', 'Deaths Cases'))\n",
    "\n",
    "# fig.add_trace(fig_c['data'][0], row = 1, col = 1)\n",
    "# fig.add_trace(fig_d['data'][0], row = 1, col = 2)\n",
    "\n",
    "# fig.update_layout(height = 400)\n",
    "\n",
    "# fig.show()"
   ]
  },
  {
   "cell_type": "code",
   "execution_count": null,
   "id": "21275681",
   "metadata": {},
   "outputs": [],
   "source": []
  },
  {
   "cell_type": "markdown",
   "id": "8c9b0e29",
   "metadata": {},
   "source": [
    "## Confirmed and Death Cases with Static Colormap"
   ]
  },
  {
   "cell_type": "code",
   "execution_count": 2,
   "id": "08cc2463",
   "metadata": {},
   "outputs": [],
   "source": [
    "# fig_c = px.choropleth(countrywise, locations = 'Country', locationmode = 'country names', color = np.log(countrywise['Confirmed']), hover_name = 'Country', hover_data = ['Confirmed'])\n",
    "\n",
    "# temp = countrywise[countrywise['Deaths']>0]\n",
    "\n",
    "# fig_d = px.choropleth(temp, locations = 'Country', locationmode = 'country names', color = np.log(temp['Deaths']), hover_name = 'Country', hover_data = ['Deaths'])\n",
    "\n",
    "# fig = make_subplots(rows = 1, cols = 2, subplot_titles = ['Confirmed', 'Deaths'], specs = [[{'type':'choropleth'},{'type':'choropleth'}]])\n",
    "\n",
    "# fig.add_trace(fig_c['data'][0], row = 1, col = 1)\n",
    "# fig.add_trace(fig_d['data'][0], row = 1, col = 2)\n",
    "\n",
    "# fig.update(layout_coloraxis_showscale = False)\n",
    "\n",
    "# fig.show()"
   ]
  },
  {
   "cell_type": "code",
   "execution_count": 99,
   "id": "5ae7398b",
   "metadata": {},
   "outputs": [
    {
     "data": {
      "text/plain": [
       "Index(['Date', 'Confirmed', 'Deaths', 'Recovered', 'Active', 'New Cases',\n",
       "       'Deaths / 100 Cases', 'Recovered / 100 Cases', 'Deaths / 100 Recovered',\n",
       "       'No. of Countries'],\n",
       "      dtype='object')"
      ]
     },
     "execution_count": 99,
     "metadata": {},
     "output_type": "execute_result"
    }
   ],
   "source": [
    "daywise.columns"
   ]
  },
  {
   "cell_type": "code",
   "execution_count": 3,
   "id": "e36101a5",
   "metadata": {},
   "outputs": [],
   "source": [
    "# fig1 = px.line(daywise, x = 'Date', y = 'Deaths / 100 Cases', color_discrete_sequence=[dtf])\n",
    "# fig2 = px.line(daywise, x = 'Date', y = 'Recovered / 100 Cases', color_discrete_sequence=[rec])\n",
    "# fig3 = px.line(daywise, x = 'Date', y = 'Deaths / 100 Recovered', color_discrete_sequence=['aqua'])\n",
    "\n",
    "# fig = make_subplots(rows = 1, cols = 3, shared_xaxes = False,\n",
    "#                     subplot_titles = ('Deaths / 100 Cases', 'Recovered / 100 Cases', 'Deaths / 100 Recovered'))\n",
    "\n",
    "# fig.add_trace(fig1['data'][0], row = 1, col = 1)\n",
    "# fig.add_trace(fig2['data'][0], row = 1, col = 2)\n",
    "# fig.add_trace(fig3['data'][0], row = 1, col = 3)\n",
    "\n",
    "# fig.update_layout(height = 400)\n",
    "\n",
    "# fig.show()"
   ]
  },
  {
   "cell_type": "code",
   "execution_count": null,
   "id": "e92f9475",
   "metadata": {},
   "outputs": [],
   "source": []
  },
  {
   "cell_type": "markdown",
   "id": "a91e65cb",
   "metadata": {},
   "source": [
    "## New Cases and No. of Countries"
   ]
  },
  {
   "cell_type": "code",
   "execution_count": 4,
   "id": "569218c6",
   "metadata": {},
   "outputs": [],
   "source": [
    "# fig_c= px.bar(daywise, x = 'Date', y = 'Confirmed', color_discrete_sequence=[act])\n",
    "# fig_d = px.bar(daywise, x = 'Date', y = 'No. of Countries', color_discrete_sequence=[dtf])\n",
    "\n",
    "# fig = make_subplots(rows = 1,cols = 2, shared_xaxes = False, horizontal_spacing=0.1,\n",
    "#                    subplot_titles = ('No. of New Cases per Day', 'No. of Countries'))\n",
    "\n",
    "# fig.add_trace(fig_c['data'][0], row = 1, col = 1)\n",
    "# fig.add_trace(fig_d['data'][0], row = 1, col = 2)"
   ]
  },
  {
   "cell_type": "code",
   "execution_count": null,
   "id": "eb9db67b",
   "metadata": {},
   "outputs": [],
   "source": []
  },
  {
   "cell_type": "markdown",
   "id": "f10d5796",
   "metadata": {},
   "source": [
    "## Top 15 Countries Case Analysis"
   ]
  },
  {
   "cell_type": "code",
   "execution_count": 107,
   "id": "461346de",
   "metadata": {},
   "outputs": [
    {
     "data": {
      "text/plain": [
       "Index(['Country', 'Confirmed', 'Deaths', 'Recovered', 'Active', 'New Cases',\n",
       "       'Deaths / 100 Cases', 'Recovered / 100 Cases', 'Deaths / 100 Recovered',\n",
       "       'Population', 'Cases / Million People', 'Confirmed last week',\n",
       "       '1 week change', '1 week % increase'],\n",
       "      dtype='object')"
      ]
     },
     "execution_count": 107,
     "metadata": {},
     "output_type": "execute_result"
    }
   ],
   "source": [
    "countrywise.columns"
   ]
  },
  {
   "cell_type": "code",
   "execution_count": 17,
   "id": "cef8fe62",
   "metadata": {},
   "outputs": [],
   "source": [
    "# top = 15\n",
    "\n",
    "# fig_c = px.bar(countrywise.sort_values('Confirmed').tail(top), x = 'Confirmed', y = 'Country',\n",
    "#               text = 'Confirmed', orientation='h', color_discrete_sequence=[act])\n",
    "\n",
    "# fig_d = px.bar(countrywise.sort_values('Deaths').tail(top), x = 'Deaths', y = 'Country',\n",
    "#               text = 'Deaths', orientation='h', color_discrete_sequence=[dtf])\n",
    "\n",
    "\n",
    "# fig_a = px.bar(countrywise.sort_values('Active').tail(top), x = 'Active', y = 'Country',\n",
    "#               text = 'Active', orientation='h', color_discrete_sequence=['#434343'])\n",
    "\n",
    "# fig_r = px.bar(countrywise.sort_values('Recovered').tail(top), x = 'Recovered', y = 'Country',\n",
    "#               text = 'Recovered', orientation='h', color_discrete_sequence=[rec])\n",
    "\n",
    "\n",
    "# fig_dc = px.bar(countrywise.sort_values('Deaths / 100 Cases').tail(top), x = 'Deaths / 100 Cases', y = 'Country',\n",
    "#               text = 'Deaths / 100 Cases', orientation='h', color_discrete_sequence=['#f84351'])\n",
    "\n",
    "# fig_rc = px.bar(countrywise.sort_values('Recovered / 100 Cases').tail(top), x = 'Recovered / 100 Cases', y = 'Country',\n",
    "#               text = 'Recovered / 100 Cases', orientation='h', color_discrete_sequence=['#a45398'])\n",
    "\n",
    "\n",
    "# fig_nc = px.bar(countrywise.sort_values('New Cases').tail(top), x = 'New Cases', y = 'Country',\n",
    "#               text = 'New Cases', orientation='h', color_discrete_sequence=['#f04341'])\n",
    "\n",
    "# temp = countrywise[countrywise['Population']>1000000]\n",
    "# fig_p = px.bar(temp.sort_values('Cases / Million People').tail(top), x = 'Cases / Million People', y = 'Country',\n",
    "#               text = 'Cases / Million People', orientation='h', color_discrete_sequence=['#b40398'])\n",
    "\n",
    "\n",
    "# fig_wc = px.bar(countrywise.sort_values('1 week change').tail(top), x = '1 week change', y = 'Country',\n",
    "#               text = '1 week change', orientation='h', color_discrete_sequence=['#c04041'])\n",
    "\n",
    "# temp = countrywise[countrywise['Confirmed']>100]\n",
    "# fig_wi = px.bar(temp.sort_values('1 week % increase').tail(top), x = '1 week % increase', y = 'Country',\n",
    "#               text = '1 week % increase', orientation='h', color_discrete_sequence=['#b00398'])\n",
    "\n",
    "\n",
    "\n",
    "# fig = make_subplots(rows = 5, cols = 2, shared_xaxes=False, horizontal_spacing=0.2,\n",
    "#                    vertical_spacing=0.05,\n",
    "#                    subplot_titles=('Confirmed Cases', 'Deaths Reported', 'Recovered Cases', 'Active Cases',\n",
    "#                                    'Deaths / 100 Cases', 'Recovered / 100 Cases', 'New Cases', 'Cases / Million People',\n",
    "#                                     '1 Week Change', '1 week % increase'))\n",
    "\n",
    "# fig.add_trace(fig_c['data'][0], row = 1, col = 1)\n",
    "# fig.add_trace(fig_d['data'][0], row = 1, col = 2)\n",
    "\n",
    "# fig.add_trace(fig_r['data'][0], row = 2, col = 1)\n",
    "# fig.add_trace(fig_a['data'][0], row = 2, col = 2)\n",
    "\n",
    "# fig.add_trace(fig_dc['data'][0], row = 3, col = 1)\n",
    "# fig.add_trace(fig_rc['data'][0], row = 3, col = 2)\n",
    "\n",
    "# fig.add_trace(fig_nc['data'][0], row = 4, col = 1)\n",
    "# fig.add_trace(fig_p['data'][0], row = 4, col = 2)\n",
    "\n",
    "# fig.add_trace(fig_wc['data'][0], row = 5, col = 1)\n",
    "# fig.add_trace(fig_wi['data'][0], row = 5, col = 2)\n",
    "\n",
    "# fig.update_layout(height = 3000)\n",
    "\n",
    "# fig.show()"
   ]
  },
  {
   "cell_type": "code",
   "execution_count": null,
   "id": "845bd792",
   "metadata": {},
   "outputs": [],
   "source": []
  },
  {
   "cell_type": "markdown",
   "id": "fa0c46ba",
   "metadata": {},
   "source": [
    "## Save Static Plots"
   ]
  },
  {
   "cell_type": "code",
   "execution_count": 123,
   "id": "54a0ad99",
   "metadata": {},
   "outputs": [],
   "source": [
    "# import os\n",
    "# if not os.path.exists('images'):\n",
    "#     os.mkdir('images')"
   ]
  },
  {
   "cell_type": "code",
   "execution_count": 125,
   "id": "46db14ec",
   "metadata": {},
   "outputs": [],
   "source": [
    "# fig.write_image('image/fig.png')\n",
    "# fig.write_image('image/fig.jpeg')\n",
    "# fig.write_image('image/fig.pdf')"
   ]
  },
  {
   "cell_type": "code",
   "execution_count": null,
   "id": "0c0fd756",
   "metadata": {},
   "outputs": [],
   "source": []
  },
  {
   "cell_type": "markdown",
   "id": "dff12a38",
   "metadata": {},
   "source": [
    "## Scatter Plot for Deaths vs Confirmed Cases"
   ]
  },
  {
   "cell_type": "code",
   "execution_count": 16,
   "id": "697b33fb",
   "metadata": {},
   "outputs": [],
   "source": [
    "# top = 15\n",
    "# fig = px.scatter(countrywise.sort_values('Deaths', ascending=False).head(top),\n",
    "#                 x = 'Confirmed', y = 'Deaths', color = 'Country', size = 'Confirmed',\n",
    "#                 height = 600, text = 'Country', log_x = True, log_y = True,\n",
    "#                 title = 'Deaths vs Confirmed Cases (Cases are on log10 scale)')\n",
    "\n",
    "# fig.update_traces(textposition = 'top center')\n",
    "# fig.update_layout(showlegend = True)\n",
    "# fig.update_layout(xaxis_rangeslider_visible = True)\n",
    "# fig.show()"
   ]
  },
  {
   "cell_type": "code",
   "execution_count": null,
   "id": "ac0d4fcb",
   "metadata": {},
   "outputs": [],
   "source": []
  },
  {
   "cell_type": "markdown",
   "id": "0c7b429f",
   "metadata": {},
   "source": [
    "## Confirmed, Deaths, New Cases vs Country and Date"
   ]
  },
  {
   "cell_type": "markdown",
   "id": "4f065a5b",
   "metadata": {},
   "source": [
    "## Bar Plot"
   ]
  },
  {
   "cell_type": "code",
   "execution_count": 15,
   "id": "ddd91cd3",
   "metadata": {},
   "outputs": [],
   "source": [
    "# fig = px.bar(country_daywise, x = 'Date', y = 'Confirmed', color = 'Country', height = 600,\n",
    "#             title = 'Confirmed', color_discrete_sequence=px.colors.cyclical.mygbm)\n",
    "\n",
    "# fig.show()"
   ]
  },
  {
   "cell_type": "code",
   "execution_count": 14,
   "id": "850c0a84",
   "metadata": {},
   "outputs": [],
   "source": [
    "# fig = px.bar(country_daywise, x = 'Date', y = 'Deaths', color = 'Country', height = 600,\n",
    "#             title = 'Deaths', color_discrete_sequence=px.colors.cyclical.mygbm)\n",
    "\n",
    "# fig.show()"
   ]
  },
  {
   "cell_type": "code",
   "execution_count": 13,
   "id": "768c2559",
   "metadata": {},
   "outputs": [],
   "source": [
    "# fig = px.bar(country_daywise, x = 'Date', y = 'Recovered', color = 'Country', height = 600,\n",
    "#             title = 'Recovered', color_discrete_sequence=px.colors.cyclical.mygbm)\n",
    "\n",
    "# fig.show()"
   ]
  },
  {
   "cell_type": "code",
   "execution_count": 12,
   "id": "71ffb400",
   "metadata": {
    "scrolled": true
   },
   "outputs": [],
   "source": [
    "# fig = px.bar(country_daywise, x = 'Date', y = 'New Cases', color = 'Country', height = 600,\n",
    "#             title = 'New Cases', color_discrete_sequence=px.colors.cyclical.mygbm)\n",
    "\n",
    "# fig.show()"
   ]
  },
  {
   "cell_type": "markdown",
   "id": "a2dd75b8",
   "metadata": {},
   "source": [
    "## Line Plot"
   ]
  },
  {
   "cell_type": "code",
   "execution_count": 11,
   "id": "900b1853",
   "metadata": {},
   "outputs": [],
   "source": [
    "# fig = px.line(country_daywise, x = 'Date', y = 'Confirmed', color = 'Country', height = 600,\n",
    "#              title = 'Confirmed', color_discrete_sequence = px.colors.cyclical.mygbm)\n",
    "\n",
    "# fig.show()\n",
    "\n",
    "# fig = px.line(country_daywise, x = 'Date', y = 'Deaths', color = 'Country', height = 600,\n",
    "#              title = 'Deaths', color_discrete_sequence = px.colors.cyclical.mygbm)\n",
    "\n",
    "# fig.show()\n",
    "\n",
    "# fig = px.line(country_daywise, x = 'Date', y = 'Recovered', color = 'Country', height = 600,\n",
    "#              title = 'Recovered', color_discrete_sequence = px.colors.cyclical.mygbm)\n",
    "\n",
    "# fig.show()"
   ]
  },
  {
   "cell_type": "code",
   "execution_count": null,
   "id": "21f663ac",
   "metadata": {},
   "outputs": [],
   "source": []
  },
  {
   "cell_type": "markdown",
   "id": "3b7faa7b",
   "metadata": {},
   "source": [
    "## Growth Rate after 100 Cases"
   ]
  },
  {
   "cell_type": "code",
   "execution_count": 139,
   "id": "12c32612",
   "metadata": {},
   "outputs": [
    {
     "data": {
      "text/html": [
       "<div>\n",
       "<style scoped>\n",
       "    .dataframe tbody tr th:only-of-type {\n",
       "        vertical-align: middle;\n",
       "    }\n",
       "\n",
       "    .dataframe tbody tr th {\n",
       "        vertical-align: top;\n",
       "    }\n",
       "\n",
       "    .dataframe thead th {\n",
       "        text-align: right;\n",
       "    }\n",
       "</style>\n",
       "<table border=\"1\" class=\"dataframe\">\n",
       "  <thead>\n",
       "    <tr style=\"text-align: right;\">\n",
       "      <th></th>\n",
       "      <th>Date</th>\n",
       "      <th>Province/State</th>\n",
       "      <th>Country</th>\n",
       "      <th>Lat</th>\n",
       "      <th>Long</th>\n",
       "      <th>Confirmed</th>\n",
       "      <th>Recovered</th>\n",
       "      <th>Deaths</th>\n",
       "      <th>Active</th>\n",
       "    </tr>\n",
       "  </thead>\n",
       "  <tbody>\n",
       "    <tr>\n",
       "      <th>0</th>\n",
       "      <td>2020-01-22</td>\n",
       "      <td></td>\n",
       "      <td>Afghanistan</td>\n",
       "      <td>33.93911</td>\n",
       "      <td>67.709953</td>\n",
       "      <td>0</td>\n",
       "      <td>0</td>\n",
       "      <td>0</td>\n",
       "      <td>0</td>\n",
       "    </tr>\n",
       "    <tr>\n",
       "      <th>1</th>\n",
       "      <td>2020-01-23</td>\n",
       "      <td></td>\n",
       "      <td>Afghanistan</td>\n",
       "      <td>33.93911</td>\n",
       "      <td>67.709953</td>\n",
       "      <td>0</td>\n",
       "      <td>0</td>\n",
       "      <td>0</td>\n",
       "      <td>0</td>\n",
       "    </tr>\n",
       "    <tr>\n",
       "      <th>2</th>\n",
       "      <td>2020-01-24</td>\n",
       "      <td></td>\n",
       "      <td>Afghanistan</td>\n",
       "      <td>33.93911</td>\n",
       "      <td>67.709953</td>\n",
       "      <td>0</td>\n",
       "      <td>0</td>\n",
       "      <td>0</td>\n",
       "      <td>0</td>\n",
       "    </tr>\n",
       "    <tr>\n",
       "      <th>3</th>\n",
       "      <td>2020-01-25</td>\n",
       "      <td></td>\n",
       "      <td>Afghanistan</td>\n",
       "      <td>33.93911</td>\n",
       "      <td>67.709953</td>\n",
       "      <td>0</td>\n",
       "      <td>0</td>\n",
       "      <td>0</td>\n",
       "      <td>0</td>\n",
       "    </tr>\n",
       "    <tr>\n",
       "      <th>4</th>\n",
       "      <td>2020-01-26</td>\n",
       "      <td></td>\n",
       "      <td>Afghanistan</td>\n",
       "      <td>33.93911</td>\n",
       "      <td>67.709953</td>\n",
       "      <td>0</td>\n",
       "      <td>0</td>\n",
       "      <td>0</td>\n",
       "      <td>0</td>\n",
       "    </tr>\n",
       "  </tbody>\n",
       "</table>\n",
       "</div>"
      ],
      "text/plain": [
       "        Date Province/State      Country       Lat       Long  Confirmed  \\\n",
       "0 2020-01-22                 Afghanistan  33.93911  67.709953          0   \n",
       "1 2020-01-23                 Afghanistan  33.93911  67.709953          0   \n",
       "2 2020-01-24                 Afghanistan  33.93911  67.709953          0   \n",
       "3 2020-01-25                 Afghanistan  33.93911  67.709953          0   \n",
       "4 2020-01-26                 Afghanistan  33.93911  67.709953          0   \n",
       "\n",
       "   Recovered  Deaths  Active  \n",
       "0          0       0       0  \n",
       "1          0       0       0  \n",
       "2          0       0       0  \n",
       "3          0       0       0  \n",
       "4          0       0       0  "
      ]
     },
     "execution_count": 139,
     "metadata": {},
     "output_type": "execute_result"
    }
   ],
   "source": [
    "df.head()"
   ]
  },
  {
   "cell_type": "code",
   "execution_count": 10,
   "id": "ea653f91",
   "metadata": {},
   "outputs": [],
   "source": [
    "# gt_100 = country_daywise[country_daywise['Confirmed']>100]['Country'].unique()\n",
    "# temp = df[df['Country'].isin(gt_100)]\n",
    "\n",
    "# temp = temp.groupby(['Country', 'Date'])['Confirmed'].sum().reset_index()\n",
    "# temp = temp[temp['Confirmed']>100]\n",
    "\n",
    "\n",
    "# min_date = temp.groupby('Country')['Date'].min().reset_index()\n",
    "# min_date.columns = ['Country', 'Min Date']\n",
    "\n",
    "\n",
    "# from_100th_case = pd.merge(temp, min_date, on = 'Country')\n",
    "# from_100th_case['N days'] = (from_100th_case['Date'] - from_100th_case['Min Date']).dt.days\n",
    "\n",
    "\n",
    "# fig = px.line(from_100th_case, x = 'N days', y = 'Confirmed', color = 'Country',\n",
    "#              title = 'N days from 100 case', height = 600)\n",
    "\n",
    "# fig.show()"
   ]
  },
  {
   "cell_type": "code",
   "execution_count": null,
   "id": "d1e8302a",
   "metadata": {},
   "outputs": [],
   "source": []
  },
  {
   "cell_type": "markdown",
   "id": "a58f90d5",
   "metadata": {},
   "source": [
    "## Growth Rate after 1000 Cases"
   ]
  },
  {
   "cell_type": "code",
   "execution_count": 9,
   "id": "3c3e4e64",
   "metadata": {},
   "outputs": [],
   "source": [
    "# gt_1000 = country_daywise[country_daywise['Confirmed']>1000]['Country'].unique()\n",
    "# temp = df[df['Country'].isin(gt_1000)]\n",
    "\n",
    "# temp = temp.groupby(['Country', 'Date'])['Confirmed'].sum().reset_index()\n",
    "# temp = temp[temp['Confirmed']>1000]\n",
    "\n",
    "\n",
    "# min_date = temp.groupby('Country')['Date'].min().reset_index()\n",
    "# min_date.columns = ['Country', 'Min Date']\n",
    "\n",
    "\n",
    "# from_1000th_case = pd.merge(temp, min_date, on = 'Country')\n",
    "# from_1000th_case['N days'] = (from_1000th_case['Date'] - from_1000th_case['Min Date']).dt.days\n",
    "\n",
    "\n",
    "# fig = px.line(from_1000th_case, x = 'N days', y = 'Confirmed', color = 'Country',\n",
    "#              title = 'N days from 1000 case', height = 600)\n",
    "\n",
    "# fig.show()"
   ]
  },
  {
   "cell_type": "code",
   "execution_count": null,
   "id": "4aa2975e",
   "metadata": {},
   "outputs": [],
   "source": []
  },
  {
   "cell_type": "markdown",
   "id": "25071a28",
   "metadata": {},
   "source": [
    "## Growth Rate after 1000 Cases"
   ]
  },
  {
   "cell_type": "code",
   "execution_count": 6,
   "id": "5939458c",
   "metadata": {},
   "outputs": [],
   "source": [
    "# gt_10000 = country_daywise[country_daywise['Confirmed']>10000]['Country'].unique()\n",
    "# temp = df[df['Country'].isin(gt_10000)]\n",
    "\n",
    "# temp = temp.groupby(['Country', 'Date'])['Confirmed'].sum().reset_index()\n",
    "# temp = temp[temp['Confirmed']>10000]\n",
    "\n",
    "\n",
    "# min_date = temp.groupby('Country')['Date'].min().reset_index()\n",
    "# min_date.columns = ['Country', 'Min Date']\n",
    "\n",
    "\n",
    "# from_10000th_case = pd.merge(temp, min_date, on = 'Country')\n",
    "# from_10000th_case['N days'] = (from_10000th_case['Date'] - from_10000th_case['Min Date']).dt.days\n",
    "\n",
    "\n",
    "# fig = px.line(from_10000th_case, x = 'N days', y = 'Confirmed', color = 'Country',\n",
    "#              title = 'N days from 10000 case', height = 600)\n",
    "\n",
    "# fig.show()"
   ]
  },
  {
   "cell_type": "code",
   "execution_count": null,
   "id": "0db62838",
   "metadata": {},
   "outputs": [],
   "source": []
  },
  {
   "cell_type": "markdown",
   "id": "5e549200",
   "metadata": {},
   "source": [
    "## Growth Rate After 100k Cases"
   ]
  },
  {
   "cell_type": "code",
   "execution_count": 4,
   "id": "0db8e253",
   "metadata": {},
   "outputs": [],
   "source": [
    "# gt_100000 = country_daywise[country_daywise['Confirmed']>100000]['Country'].unique()\n",
    "# temp = df[df['Country'].isin(gt_100000)]\n",
    "\n",
    "# temp = temp.groupby(['Country', 'Date'])['Confirmed'].sum().reset_index()\n",
    "# temp = temp[temp['Confirmed']>100000]\n",
    "\n",
    "\n",
    "# min_date = temp.groupby('Country')['Date'].min().reset_index()\n",
    "# min_date.columns = ['Country', 'Min Date']\n",
    "\n",
    "\n",
    "# from_100000th_case = pd.merge(temp, min_date, on = 'Country')\n",
    "# from_100000th_case['N days'] = (from_100000th_case['Date'] - from_100000th_case['Min Date']).dt.days\n",
    "\n",
    "\n",
    "# fig = px.line(from_100000th_case, x = 'N days', y = 'Confirmed', color = 'Country',\n",
    "#              title = 'N days from 100000 case', height = 600)\n",
    "\n",
    "# fig.show()"
   ]
  },
  {
   "cell_type": "code",
   "execution_count": null,
   "id": "6d086a47",
   "metadata": {},
   "outputs": [],
   "source": []
  },
  {
   "cell_type": "markdown",
   "id": "78bf7fad",
   "metadata": {},
   "source": [
    "## Tree Map Analysis\n",
    "\n",
    "### Confirmed Cases"
   ]
  },
  {
   "cell_type": "code",
   "execution_count": 5,
   "id": "6fcc7326",
   "metadata": {},
   "outputs": [],
   "source": [
    "# full_latest = df[df['Date'] == max(df['Date'])]\n",
    "\n",
    "# fig = px.treemap(full_latest.sort_values(by = 'Confirmed', ascending = False).reset_index(drop = True),\n",
    "#                 path = ['Country', 'Province/State'], values = 'Confirmed', height = 700,\n",
    "#                 title = 'Number of Confirmed Cases',\n",
    "#                 color_discrete_sequence = px.colors.qualitative.Dark2)\n",
    "\n",
    "# fig.data[0].textinfo = 'label+text+value'\n",
    "# fig.show()"
   ]
  },
  {
   "cell_type": "markdown",
   "id": "4afd549b",
   "metadata": {},
   "source": [
    "### Deaths Cases"
   ]
  },
  {
   "cell_type": "code",
   "execution_count": 8,
   "id": "5e1433e8",
   "metadata": {},
   "outputs": [],
   "source": [
    "# full_latest = df[df['Date'] == max(df['Date'])]\n",
    "\n",
    "# fig = px.treemap(full_latest.sort_values(by = 'Deaths', ascending = False).reset_index(drop = True),\n",
    "#                 path = ['Country', 'Province/State'], values = 'Confirmed', height = 700,\n",
    "#                 title = 'Number of Deaths Cases',\n",
    "#                 color_discrete_sequence = px.colors.qualitative.Dark2)\n",
    "\n",
    "# fig.data[0].textinfo = 'label+text+value'\n",
    "# fig.show()"
   ]
  },
  {
   "cell_type": "code",
   "execution_count": null,
   "id": "4972cc39",
   "metadata": {},
   "outputs": [],
   "source": []
  },
  {
   "cell_type": "markdown",
   "id": "bba39c8f",
   "metadata": {},
   "source": [
    "## First and Last Case Report Time"
   ]
  },
  {
   "cell_type": "code",
   "execution_count": 7,
   "id": "f6cc680d",
   "metadata": {},
   "outputs": [],
   "source": [
    "# first_date = df[df['Confirmed']>0]\n",
    "# first_date = first_date.groupby('Country')['Date'].agg(['min']).reset_index()\n",
    "\n",
    "\n",
    "# last_date = df.groupby(['Country', 'Date'])['Confirmed', 'Deaths', 'Recovered']\n",
    "# last_date = last_date.sum().diff().reset_index()\n",
    "\n",
    "# mask= last_date['Country'] != last_date['Country'].shift(1)\n",
    "\n",
    "# last_date.loc[mask, 'Confirmed'] = np.nan\n",
    "# last_date.loc[mask, 'Deaths'] = np.nan\n",
    "# last_date.loc[mask, 'Recovered'] = np.nan\n",
    "\n",
    "# last_date = last_date[last_date['Confirmed']>0]\n",
    "# last_date = last_date.groupby('Country')['Date'].agg(['max']).reset_index()\n",
    "\n",
    "\n",
    "# first_last = pd.concat([first_date, last_date['max']], axis = 1)\n",
    "# first_last['max'] = first_last['max'] + timedelta(days = 1)\n",
    "\n",
    "# first_last['Days'] = first_last['max'] - first_last['min']\n",
    "# first_last['Task'] = first_last['Country']\n",
    "\n",
    "# first_last.columns = ['Country', 'Start', 'Finish', 'Days', 'Task']\n",
    "\n",
    "# first_last = first_last.sort_values('Days')\n",
    "\n",
    "# colors = ['#' + ''.join([random.choice('0123456789ABCDEF') for j in range(6)]) for i in range(len(first_last))]\n",
    "\n",
    "# fig = ff.create_gantt(first_last, index_col = 'Country', colors = colors, show_colorbar = False,\n",
    "#                      bar_width = 0.2, showgrid_x = True, showgrid_y = True, height = 2500)\n",
    "\n",
    "# fig.show()"
   ]
  },
  {
   "cell_type": "code",
   "execution_count": null,
   "id": "09b8322d",
   "metadata": {},
   "outputs": [],
   "source": []
  },
  {
   "cell_type": "markdown",
   "id": "81a929ea",
   "metadata": {},
   "source": [
    "## Confirmed Cases Country and Day wise"
   ]
  },
  {
   "cell_type": "code",
   "execution_count": 171,
   "id": "475d6b96",
   "metadata": {},
   "outputs": [
    {
     "data": {
      "text/html": [
       "<div>\n",
       "<style scoped>\n",
       "    .dataframe tbody tr th:only-of-type {\n",
       "        vertical-align: middle;\n",
       "    }\n",
       "\n",
       "    .dataframe tbody tr th {\n",
       "        vertical-align: top;\n",
       "    }\n",
       "\n",
       "    .dataframe thead th {\n",
       "        text-align: right;\n",
       "    }\n",
       "</style>\n",
       "<table border=\"1\" class=\"dataframe\">\n",
       "  <thead>\n",
       "    <tr style=\"text-align: right;\">\n",
       "      <th></th>\n",
       "      <th>Date</th>\n",
       "      <th>Country</th>\n",
       "      <th>Confirmed</th>\n",
       "      <th>Deaths</th>\n",
       "      <th>Recovered</th>\n",
       "      <th>Active</th>\n",
       "      <th>New Cases</th>\n",
       "      <th>New Recovered</th>\n",
       "      <th>New Deaths</th>\n",
       "    </tr>\n",
       "  </thead>\n",
       "  <tbody>\n",
       "    <tr>\n",
       "      <th>0</th>\n",
       "      <td>2020-01-23</td>\n",
       "      <td>Afghanistan</td>\n",
       "      <td>0</td>\n",
       "      <td>0</td>\n",
       "      <td>0</td>\n",
       "      <td>0</td>\n",
       "      <td>0</td>\n",
       "      <td>0</td>\n",
       "      <td>0</td>\n",
       "    </tr>\n",
       "    <tr>\n",
       "      <th>1</th>\n",
       "      <td>2020-01-24</td>\n",
       "      <td>Afghanistan</td>\n",
       "      <td>0</td>\n",
       "      <td>0</td>\n",
       "      <td>0</td>\n",
       "      <td>0</td>\n",
       "      <td>0</td>\n",
       "      <td>0</td>\n",
       "      <td>0</td>\n",
       "    </tr>\n",
       "    <tr>\n",
       "      <th>2</th>\n",
       "      <td>2020-01-25</td>\n",
       "      <td>Afghanistan</td>\n",
       "      <td>0</td>\n",
       "      <td>0</td>\n",
       "      <td>0</td>\n",
       "      <td>0</td>\n",
       "      <td>0</td>\n",
       "      <td>0</td>\n",
       "      <td>0</td>\n",
       "    </tr>\n",
       "    <tr>\n",
       "      <th>3</th>\n",
       "      <td>2020-01-26</td>\n",
       "      <td>Afghanistan</td>\n",
       "      <td>0</td>\n",
       "      <td>0</td>\n",
       "      <td>0</td>\n",
       "      <td>0</td>\n",
       "      <td>0</td>\n",
       "      <td>0</td>\n",
       "      <td>0</td>\n",
       "    </tr>\n",
       "    <tr>\n",
       "      <th>4</th>\n",
       "      <td>2020-01-27</td>\n",
       "      <td>Afghanistan</td>\n",
       "      <td>0</td>\n",
       "      <td>0</td>\n",
       "      <td>0</td>\n",
       "      <td>0</td>\n",
       "      <td>0</td>\n",
       "      <td>0</td>\n",
       "      <td>0</td>\n",
       "    </tr>\n",
       "  </tbody>\n",
       "</table>\n",
       "</div>"
      ],
      "text/plain": [
       "        Date      Country  Confirmed  Deaths  Recovered  Active  New Cases  \\\n",
       "0 2020-01-23  Afghanistan          0       0          0       0          0   \n",
       "1 2020-01-24  Afghanistan          0       0          0       0          0   \n",
       "2 2020-01-25  Afghanistan          0       0          0       0          0   \n",
       "3 2020-01-26  Afghanistan          0       0          0       0          0   \n",
       "4 2020-01-27  Afghanistan          0       0          0       0          0   \n",
       "\n",
       "   New Recovered  New Deaths  \n",
       "0              0           0  \n",
       "1              0           0  \n",
       "2              0           0  \n",
       "3              0           0  \n",
       "4              0           0  "
      ]
     },
     "execution_count": 171,
     "metadata": {},
     "output_type": "execute_result"
    }
   ],
   "source": [
    "country_daywise.head()"
   ]
  },
  {
   "cell_type": "code",
   "execution_count": 174,
   "id": "724d355f",
   "metadata": {},
   "outputs": [],
   "source": [
    "# temp = country_daywise.groupby(['Country', 'Date'])['Confirmed'].sum().reset_index()\n",
    "# temp = temp[temp['Confirmed'].isin(gt_10000)]\n",
    "\n",
    "# countries = temp['Country'].unique()\n",
    "\n",
    "# ncols = 3\n",
    "# nrows = math.ceil(len(countries)/ncols)\n",
    "\n",
    "# fig = make_subplots(rows=nrows, cols = ncols, shared_xaxes= False, subplot_titles = countries)\n",
    "\n",
    "# for ind, country in enumerate(countries):\n",
    "#     row = int((ind/ncols)+1)\n",
    "#     col = int((ind/ncols)+1)\n",
    "#     fig.add_trace(go.Bar(x = temp['Date'], y = temp.loc[temp['Country']==country, 'Confirmed'], name = country), row = row, col = col)\n",
    "    \n",
    "# fig.update_layout(height = 4000, title_text = 'Confirmed Cases in Each Country')\n",
    "# fig.update_layout(showlegend = False)\n",
    "# fig.show()"
   ]
  },
  {
   "cell_type": "code",
   "execution_count": null,
   "id": "aca34f0d",
   "metadata": {},
   "outputs": [],
   "source": []
  },
  {
   "cell_type": "markdown",
   "id": "268af108",
   "metadata": {},
   "source": [
    "## Covid-19 vs Other Similar Epidemics"
   ]
  },
  {
   "cell_type": "code",
   "execution_count": 175,
   "id": "d0a47c2e",
   "metadata": {},
   "outputs": [
    {
     "data": {
      "text/html": [
       "<div>\n",
       "<style scoped>\n",
       "    .dataframe tbody tr th:only-of-type {\n",
       "        vertical-align: middle;\n",
       "    }\n",
       "\n",
       "    .dataframe tbody tr th {\n",
       "        vertical-align: top;\n",
       "    }\n",
       "\n",
       "    .dataframe thead th {\n",
       "        text-align: right;\n",
       "    }\n",
       "</style>\n",
       "<table border=\"1\" class=\"dataframe\">\n",
       "  <thead>\n",
       "    <tr style=\"text-align: right;\">\n",
       "      <th></th>\n",
       "      <th>Date</th>\n",
       "      <th>Province/State</th>\n",
       "      <th>Country</th>\n",
       "      <th>Lat</th>\n",
       "      <th>Long</th>\n",
       "      <th>Confirmed</th>\n",
       "      <th>Recovered</th>\n",
       "      <th>Deaths</th>\n",
       "      <th>Active</th>\n",
       "    </tr>\n",
       "  </thead>\n",
       "  <tbody>\n",
       "    <tr>\n",
       "      <th>614</th>\n",
       "      <td>2021-09-27</td>\n",
       "      <td></td>\n",
       "      <td>Afghanistan</td>\n",
       "      <td>33.93911</td>\n",
       "      <td>67.709953</td>\n",
       "      <td>155072</td>\n",
       "      <td>0</td>\n",
       "      <td>7200</td>\n",
       "      <td>147872</td>\n",
       "    </tr>\n",
       "    <tr>\n",
       "      <th>1229</th>\n",
       "      <td>2021-09-27</td>\n",
       "      <td></td>\n",
       "      <td>Albania</td>\n",
       "      <td>41.15330</td>\n",
       "      <td>20.168300</td>\n",
       "      <td>168188</td>\n",
       "      <td>0</td>\n",
       "      <td>2653</td>\n",
       "      <td>165535</td>\n",
       "    </tr>\n",
       "    <tr>\n",
       "      <th>1844</th>\n",
       "      <td>2021-09-27</td>\n",
       "      <td></td>\n",
       "      <td>Algeria</td>\n",
       "      <td>28.03390</td>\n",
       "      <td>1.659600</td>\n",
       "      <td>202877</td>\n",
       "      <td>0</td>\n",
       "      <td>5786</td>\n",
       "      <td>197091</td>\n",
       "    </tr>\n",
       "    <tr>\n",
       "      <th>2459</th>\n",
       "      <td>2021-09-27</td>\n",
       "      <td></td>\n",
       "      <td>Andorra</td>\n",
       "      <td>42.50630</td>\n",
       "      <td>1.521800</td>\n",
       "      <td>15189</td>\n",
       "      <td>0</td>\n",
       "      <td>130</td>\n",
       "      <td>15059</td>\n",
       "    </tr>\n",
       "    <tr>\n",
       "      <th>3074</th>\n",
       "      <td>2021-09-27</td>\n",
       "      <td></td>\n",
       "      <td>Angola</td>\n",
       "      <td>-11.20270</td>\n",
       "      <td>17.873900</td>\n",
       "      <td>55583</td>\n",
       "      <td>0</td>\n",
       "      <td>1513</td>\n",
       "      <td>54070</td>\n",
       "    </tr>\n",
       "    <tr>\n",
       "      <th>...</th>\n",
       "      <td>...</td>\n",
       "      <td>...</td>\n",
       "      <td>...</td>\n",
       "      <td>...</td>\n",
       "      <td>...</td>\n",
       "      <td>...</td>\n",
       "      <td>...</td>\n",
       "      <td>...</td>\n",
       "      <td>...</td>\n",
       "    </tr>\n",
       "    <tr>\n",
       "      <th>172814</th>\n",
       "      <td>2021-09-27</td>\n",
       "      <td>Hebei</td>\n",
       "      <td>China</td>\n",
       "      <td>37.89570</td>\n",
       "      <td>114.904200</td>\n",
       "      <td>0</td>\n",
       "      <td>0</td>\n",
       "      <td>0</td>\n",
       "      <td>0</td>\n",
       "    </tr>\n",
       "    <tr>\n",
       "      <th>173429</th>\n",
       "      <td>2021-09-27</td>\n",
       "      <td>Henan</td>\n",
       "      <td>China</td>\n",
       "      <td>33.88200</td>\n",
       "      <td>113.614000</td>\n",
       "      <td>0</td>\n",
       "      <td>0</td>\n",
       "      <td>0</td>\n",
       "      <td>0</td>\n",
       "    </tr>\n",
       "    <tr>\n",
       "      <th>174044</th>\n",
       "      <td>2021-09-27</td>\n",
       "      <td></td>\n",
       "      <td>Mozambique</td>\n",
       "      <td>-18.66570</td>\n",
       "      <td>35.529600</td>\n",
       "      <td>0</td>\n",
       "      <td>0</td>\n",
       "      <td>0</td>\n",
       "      <td>0</td>\n",
       "    </tr>\n",
       "    <tr>\n",
       "      <th>174659</th>\n",
       "      <td>2021-09-27</td>\n",
       "      <td></td>\n",
       "      <td>Syria</td>\n",
       "      <td>34.80210</td>\n",
       "      <td>38.996800</td>\n",
       "      <td>0</td>\n",
       "      <td>0</td>\n",
       "      <td>0</td>\n",
       "      <td>0</td>\n",
       "    </tr>\n",
       "    <tr>\n",
       "      <th>175274</th>\n",
       "      <td>2021-09-27</td>\n",
       "      <td></td>\n",
       "      <td>Timor-Leste</td>\n",
       "      <td>-8.87420</td>\n",
       "      <td>125.727500</td>\n",
       "      <td>0</td>\n",
       "      <td>0</td>\n",
       "      <td>0</td>\n",
       "      <td>0</td>\n",
       "    </tr>\n",
       "  </tbody>\n",
       "</table>\n",
       "<p>281 rows × 9 columns</p>\n",
       "</div>"
      ],
      "text/plain": [
       "             Date Province/State      Country       Lat        Long  \\\n",
       "614    2021-09-27                 Afghanistan  33.93911   67.709953   \n",
       "1229   2021-09-27                     Albania  41.15330   20.168300   \n",
       "1844   2021-09-27                     Algeria  28.03390    1.659600   \n",
       "2459   2021-09-27                     Andorra  42.50630    1.521800   \n",
       "3074   2021-09-27                      Angola -11.20270   17.873900   \n",
       "...           ...            ...          ...       ...         ...   \n",
       "172814 2021-09-27          Hebei        China  37.89570  114.904200   \n",
       "173429 2021-09-27          Henan        China  33.88200  113.614000   \n",
       "174044 2021-09-27                  Mozambique -18.66570   35.529600   \n",
       "174659 2021-09-27                       Syria  34.80210   38.996800   \n",
       "175274 2021-09-27                 Timor-Leste  -8.87420  125.727500   \n",
       "\n",
       "        Confirmed  Recovered  Deaths  Active  \n",
       "614        155072          0    7200  147872  \n",
       "1229       168188          0    2653  165535  \n",
       "1844       202877          0    5786  197091  \n",
       "2459        15189          0     130   15059  \n",
       "3074        55583          0    1513   54070  \n",
       "...           ...        ...     ...     ...  \n",
       "172814          0          0       0       0  \n",
       "173429          0          0       0       0  \n",
       "174044          0          0       0       0  \n",
       "174659          0          0       0       0  \n",
       "175274          0          0       0       0  \n",
       "\n",
       "[281 rows x 9 columns]"
      ]
     },
     "execution_count": 175,
     "metadata": {},
     "output_type": "execute_result"
    }
   ],
   "source": [
    "full_latest"
   ]
  },
  {
   "cell_type": "code",
   "execution_count": 179,
   "id": "c66df529",
   "metadata": {},
   "outputs": [
    {
     "data": {
      "text/html": [
       "<div>\n",
       "<style scoped>\n",
       "    .dataframe tbody tr th:only-of-type {\n",
       "        vertical-align: middle;\n",
       "    }\n",
       "\n",
       "    .dataframe tbody tr th {\n",
       "        vertical-align: top;\n",
       "    }\n",
       "\n",
       "    .dataframe thead th {\n",
       "        text-align: right;\n",
       "    }\n",
       "</style>\n",
       "<table border=\"1\" class=\"dataframe\">\n",
       "  <thead>\n",
       "    <tr style=\"text-align: right;\">\n",
       "      <th></th>\n",
       "      <th>epidemic</th>\n",
       "      <th>start_year</th>\n",
       "      <th>end_year</th>\n",
       "      <th>confirmed</th>\n",
       "      <th>deaths</th>\n",
       "      <th>mortality</th>\n",
       "    </tr>\n",
       "  </thead>\n",
       "  <tbody>\n",
       "    <tr>\n",
       "      <th>0</th>\n",
       "      <td>COVID-19</td>\n",
       "      <td>2019</td>\n",
       "      <td>2020</td>\n",
       "      <td>232315538</td>\n",
       "      <td>4756235</td>\n",
       "      <td>2.05</td>\n",
       "    </tr>\n",
       "    <tr>\n",
       "      <th>1</th>\n",
       "      <td>SARS</td>\n",
       "      <td>2002</td>\n",
       "      <td>2004</td>\n",
       "      <td>8422</td>\n",
       "      <td>813</td>\n",
       "      <td>9.65</td>\n",
       "    </tr>\n",
       "    <tr>\n",
       "      <th>2</th>\n",
       "      <td>EBOLA</td>\n",
       "      <td>2013</td>\n",
       "      <td>2016</td>\n",
       "      <td>28646</td>\n",
       "      <td>11323</td>\n",
       "      <td>39.53</td>\n",
       "    </tr>\n",
       "    <tr>\n",
       "      <th>3</th>\n",
       "      <td>MERS</td>\n",
       "      <td>2012</td>\n",
       "      <td>2020</td>\n",
       "      <td>2519</td>\n",
       "      <td>866</td>\n",
       "      <td>34.38</td>\n",
       "    </tr>\n",
       "    <tr>\n",
       "      <th>4</th>\n",
       "      <td>H1N1</td>\n",
       "      <td>2009</td>\n",
       "      <td>2010</td>\n",
       "      <td>6724149</td>\n",
       "      <td>19654</td>\n",
       "      <td>0.29</td>\n",
       "    </tr>\n",
       "  </tbody>\n",
       "</table>\n",
       "</div>"
      ],
      "text/plain": [
       "   epidemic  start_year  end_year  confirmed   deaths  mortality\n",
       "0  COVID-19        2019      2020  232315538  4756235       2.05\n",
       "1      SARS        2002      2004       8422      813       9.65\n",
       "2     EBOLA        2013      2016      28646    11323      39.53\n",
       "3      MERS        2012      2020       2519      866      34.38\n",
       "4      H1N1        2009      2010    6724149    19654       0.29"
      ]
     },
     "execution_count": 179,
     "metadata": {},
     "output_type": "execute_result"
    }
   ],
   "source": [
    "# wikipedia Source\n",
    "\n",
    "epidemics = pd.DataFrame({\n",
    "    'epidemic' : ['COVID-19', 'SARS', 'EBOLA', 'MERS', 'H1N1'],\n",
    "    'start_year' : [2019, 2002, 2013, 2012, 2009],\n",
    "    'end_year' : [2020, 2004, 2016, 2020, 2010],\n",
    "    'confirmed' : [full_latest['Confirmed'].sum(), 8422, 28646, 2519, 6724149],\n",
    "    'deaths' : [full_latest['Deaths'].sum(), 813, 11323, 866, 19654]\n",
    "})\n",
    "\n",
    "epidemics['mortality'] = round((epidemics['deaths']/epidemics['confirmed'])*100, 2)\n",
    "\n",
    "epidemics.head()"
   ]
  },
  {
   "cell_type": "code",
   "execution_count": 185,
   "id": "ac3b2af2",
   "metadata": {},
   "outputs": [
    {
     "data": {
      "application/vnd.plotly.v1+json": {
       "config": {
        "plotlyServerURL": "https://plot.ly"
       },
       "data": [
        {
         "alignmentgroup": "True",
         "hovertemplate": "epidemic=%{x}<br>Case=confirmed<br>Value=%{text}<extra></extra>",
         "legendgroup": "COVID-19",
         "marker": {
          "color": "rgb(127, 60, 141)",
          "pattern": {
           "shape": ""
          }
         },
         "name": "COVID-19",
         "offsetgroup": "COVID-19",
         "orientation": "v",
         "showlegend": true,
         "text": [
          232315538
         ],
         "textposition": "outside",
         "type": "bar",
         "x": [
          "COVID-19"
         ],
         "xaxis": "x",
         "y": [
          232315538
         ],
         "yaxis": "y"
        },
        {
         "alignmentgroup": "True",
         "hovertemplate": "epidemic=%{x}<br>Case=deaths<br>Value=%{text}<extra></extra>",
         "legendgroup": "COVID-19",
         "marker": {
          "color": "rgb(127, 60, 141)",
          "pattern": {
           "shape": ""
          }
         },
         "name": "COVID-19",
         "offsetgroup": "COVID-19",
         "orientation": "v",
         "showlegend": false,
         "text": [
          4756235
         ],
         "textposition": "outside",
         "type": "bar",
         "x": [
          "COVID-19"
         ],
         "xaxis": "x2",
         "y": [
          4756235
         ],
         "yaxis": "y2"
        },
        {
         "alignmentgroup": "True",
         "hovertemplate": "epidemic=%{x}<br>Case=mortality<br>Value=%{text}<extra></extra>",
         "legendgroup": "COVID-19",
         "marker": {
          "color": "rgb(127, 60, 141)",
          "pattern": {
           "shape": ""
          }
         },
         "name": "COVID-19",
         "offsetgroup": "COVID-19",
         "orientation": "v",
         "showlegend": false,
         "text": [
          2.05
         ],
         "textposition": "outside",
         "type": "bar",
         "x": [
          "COVID-19"
         ],
         "xaxis": "x3",
         "y": [
          2.05
         ],
         "yaxis": "y3"
        },
        {
         "alignmentgroup": "True",
         "hovertemplate": "epidemic=%{x}<br>Case=confirmed<br>Value=%{text}<extra></extra>",
         "legendgroup": "SARS",
         "marker": {
          "color": "rgb(17, 165, 121)",
          "pattern": {
           "shape": ""
          }
         },
         "name": "SARS",
         "offsetgroup": "SARS",
         "orientation": "v",
         "showlegend": true,
         "text": [
          8422
         ],
         "textposition": "outside",
         "type": "bar",
         "x": [
          "SARS"
         ],
         "xaxis": "x",
         "y": [
          8422
         ],
         "yaxis": "y"
        },
        {
         "alignmentgroup": "True",
         "hovertemplate": "epidemic=%{x}<br>Case=deaths<br>Value=%{text}<extra></extra>",
         "legendgroup": "SARS",
         "marker": {
          "color": "rgb(17, 165, 121)",
          "pattern": {
           "shape": ""
          }
         },
         "name": "SARS",
         "offsetgroup": "SARS",
         "orientation": "v",
         "showlegend": false,
         "text": [
          813
         ],
         "textposition": "outside",
         "type": "bar",
         "x": [
          "SARS"
         ],
         "xaxis": "x2",
         "y": [
          813
         ],
         "yaxis": "y2"
        },
        {
         "alignmentgroup": "True",
         "hovertemplate": "epidemic=%{x}<br>Case=mortality<br>Value=%{text}<extra></extra>",
         "legendgroup": "SARS",
         "marker": {
          "color": "rgb(17, 165, 121)",
          "pattern": {
           "shape": ""
          }
         },
         "name": "SARS",
         "offsetgroup": "SARS",
         "orientation": "v",
         "showlegend": false,
         "text": [
          9.65
         ],
         "textposition": "outside",
         "type": "bar",
         "x": [
          "SARS"
         ],
         "xaxis": "x3",
         "y": [
          9.65
         ],
         "yaxis": "y3"
        },
        {
         "alignmentgroup": "True",
         "hovertemplate": "epidemic=%{x}<br>Case=confirmed<br>Value=%{text}<extra></extra>",
         "legendgroup": "EBOLA",
         "marker": {
          "color": "rgb(57, 105, 172)",
          "pattern": {
           "shape": ""
          }
         },
         "name": "EBOLA",
         "offsetgroup": "EBOLA",
         "orientation": "v",
         "showlegend": true,
         "text": [
          28646
         ],
         "textposition": "outside",
         "type": "bar",
         "x": [
          "EBOLA"
         ],
         "xaxis": "x",
         "y": [
          28646
         ],
         "yaxis": "y"
        },
        {
         "alignmentgroup": "True",
         "hovertemplate": "epidemic=%{x}<br>Case=deaths<br>Value=%{text}<extra></extra>",
         "legendgroup": "EBOLA",
         "marker": {
          "color": "rgb(57, 105, 172)",
          "pattern": {
           "shape": ""
          }
         },
         "name": "EBOLA",
         "offsetgroup": "EBOLA",
         "orientation": "v",
         "showlegend": false,
         "text": [
          11323
         ],
         "textposition": "outside",
         "type": "bar",
         "x": [
          "EBOLA"
         ],
         "xaxis": "x2",
         "y": [
          11323
         ],
         "yaxis": "y2"
        },
        {
         "alignmentgroup": "True",
         "hovertemplate": "epidemic=%{x}<br>Case=mortality<br>Value=%{text}<extra></extra>",
         "legendgroup": "EBOLA",
         "marker": {
          "color": "rgb(57, 105, 172)",
          "pattern": {
           "shape": ""
          }
         },
         "name": "EBOLA",
         "offsetgroup": "EBOLA",
         "orientation": "v",
         "showlegend": false,
         "text": [
          39.53
         ],
         "textposition": "outside",
         "type": "bar",
         "x": [
          "EBOLA"
         ],
         "xaxis": "x3",
         "y": [
          39.53
         ],
         "yaxis": "y3"
        },
        {
         "alignmentgroup": "True",
         "hovertemplate": "epidemic=%{x}<br>Case=confirmed<br>Value=%{text}<extra></extra>",
         "legendgroup": "MERS",
         "marker": {
          "color": "rgb(242, 183, 1)",
          "pattern": {
           "shape": ""
          }
         },
         "name": "MERS",
         "offsetgroup": "MERS",
         "orientation": "v",
         "showlegend": true,
         "text": [
          2519
         ],
         "textposition": "outside",
         "type": "bar",
         "x": [
          "MERS"
         ],
         "xaxis": "x",
         "y": [
          2519
         ],
         "yaxis": "y"
        },
        {
         "alignmentgroup": "True",
         "hovertemplate": "epidemic=%{x}<br>Case=deaths<br>Value=%{text}<extra></extra>",
         "legendgroup": "MERS",
         "marker": {
          "color": "rgb(242, 183, 1)",
          "pattern": {
           "shape": ""
          }
         },
         "name": "MERS",
         "offsetgroup": "MERS",
         "orientation": "v",
         "showlegend": false,
         "text": [
          866
         ],
         "textposition": "outside",
         "type": "bar",
         "x": [
          "MERS"
         ],
         "xaxis": "x2",
         "y": [
          866
         ],
         "yaxis": "y2"
        },
        {
         "alignmentgroup": "True",
         "hovertemplate": "epidemic=%{x}<br>Case=mortality<br>Value=%{text}<extra></extra>",
         "legendgroup": "MERS",
         "marker": {
          "color": "rgb(242, 183, 1)",
          "pattern": {
           "shape": ""
          }
         },
         "name": "MERS",
         "offsetgroup": "MERS",
         "orientation": "v",
         "showlegend": false,
         "text": [
          34.38
         ],
         "textposition": "outside",
         "type": "bar",
         "x": [
          "MERS"
         ],
         "xaxis": "x3",
         "y": [
          34.38
         ],
         "yaxis": "y3"
        },
        {
         "alignmentgroup": "True",
         "hovertemplate": "epidemic=%{x}<br>Case=confirmed<br>Value=%{text}<extra></extra>",
         "legendgroup": "H1N1",
         "marker": {
          "color": "rgb(231, 63, 116)",
          "pattern": {
           "shape": ""
          }
         },
         "name": "H1N1",
         "offsetgroup": "H1N1",
         "orientation": "v",
         "showlegend": true,
         "text": [
          6724149
         ],
         "textposition": "outside",
         "type": "bar",
         "x": [
          "H1N1"
         ],
         "xaxis": "x",
         "y": [
          6724149
         ],
         "yaxis": "y"
        },
        {
         "alignmentgroup": "True",
         "hovertemplate": "epidemic=%{x}<br>Case=deaths<br>Value=%{text}<extra></extra>",
         "legendgroup": "H1N1",
         "marker": {
          "color": "rgb(231, 63, 116)",
          "pattern": {
           "shape": ""
          }
         },
         "name": "H1N1",
         "offsetgroup": "H1N1",
         "orientation": "v",
         "showlegend": false,
         "text": [
          19654
         ],
         "textposition": "outside",
         "type": "bar",
         "x": [
          "H1N1"
         ],
         "xaxis": "x2",
         "y": [
          19654
         ],
         "yaxis": "y2"
        },
        {
         "alignmentgroup": "True",
         "hovertemplate": "epidemic=%{x}<br>Case=mortality<br>Value=%{text}<extra></extra>",
         "legendgroup": "H1N1",
         "marker": {
          "color": "rgb(231, 63, 116)",
          "pattern": {
           "shape": ""
          }
         },
         "name": "H1N1",
         "offsetgroup": "H1N1",
         "orientation": "v",
         "showlegend": false,
         "text": [
          0.29
         ],
         "textposition": "outside",
         "type": "bar",
         "x": [
          "H1N1"
         ],
         "xaxis": "x3",
         "y": [
          0.29
         ],
         "yaxis": "y3"
        }
       ],
       "layout": {
        "annotations": [
         {
          "font": {},
          "showarrow": false,
          "text": "Case=confirmed",
          "x": 0.15999999999999998,
          "xanchor": "center",
          "xref": "paper",
          "y": 1,
          "yanchor": "bottom",
          "yref": "paper"
         },
         {
          "font": {},
          "showarrow": false,
          "text": "Case=deaths",
          "x": 0.49999999999999994,
          "xanchor": "center",
          "xref": "paper",
          "y": 1,
          "yanchor": "bottom",
          "yref": "paper"
         },
         {
          "font": {},
          "showarrow": false,
          "text": "Case=mortality",
          "x": 0.8399999999999999,
          "xanchor": "center",
          "xref": "paper",
          "y": 1,
          "yanchor": "bottom",
          "yref": "paper"
         }
        ],
        "barmode": "relative",
        "legend": {
         "title": {
          "text": "epidemic"
         },
         "tracegroupgap": 0
        },
        "margin": {
         "t": 60
        },
        "template": {
         "data": {
          "bar": [
           {
            "error_x": {
             "color": "#2a3f5f"
            },
            "error_y": {
             "color": "#2a3f5f"
            },
            "marker": {
             "line": {
              "color": "#E5ECF6",
              "width": 0.5
             },
             "pattern": {
              "fillmode": "overlay",
              "size": 10,
              "solidity": 0.2
             }
            },
            "type": "bar"
           }
          ],
          "barpolar": [
           {
            "marker": {
             "line": {
              "color": "#E5ECF6",
              "width": 0.5
             },
             "pattern": {
              "fillmode": "overlay",
              "size": 10,
              "solidity": 0.2
             }
            },
            "type": "barpolar"
           }
          ],
          "carpet": [
           {
            "aaxis": {
             "endlinecolor": "#2a3f5f",
             "gridcolor": "white",
             "linecolor": "white",
             "minorgridcolor": "white",
             "startlinecolor": "#2a3f5f"
            },
            "baxis": {
             "endlinecolor": "#2a3f5f",
             "gridcolor": "white",
             "linecolor": "white",
             "minorgridcolor": "white",
             "startlinecolor": "#2a3f5f"
            },
            "type": "carpet"
           }
          ],
          "choropleth": [
           {
            "colorbar": {
             "outlinewidth": 0,
             "ticks": ""
            },
            "type": "choropleth"
           }
          ],
          "contour": [
           {
            "colorbar": {
             "outlinewidth": 0,
             "ticks": ""
            },
            "colorscale": [
             [
              0,
              "#0d0887"
             ],
             [
              0.1111111111111111,
              "#46039f"
             ],
             [
              0.2222222222222222,
              "#7201a8"
             ],
             [
              0.3333333333333333,
              "#9c179e"
             ],
             [
              0.4444444444444444,
              "#bd3786"
             ],
             [
              0.5555555555555556,
              "#d8576b"
             ],
             [
              0.6666666666666666,
              "#ed7953"
             ],
             [
              0.7777777777777778,
              "#fb9f3a"
             ],
             [
              0.8888888888888888,
              "#fdca26"
             ],
             [
              1,
              "#f0f921"
             ]
            ],
            "type": "contour"
           }
          ],
          "contourcarpet": [
           {
            "colorbar": {
             "outlinewidth": 0,
             "ticks": ""
            },
            "type": "contourcarpet"
           }
          ],
          "heatmap": [
           {
            "colorbar": {
             "outlinewidth": 0,
             "ticks": ""
            },
            "colorscale": [
             [
              0,
              "#0d0887"
             ],
             [
              0.1111111111111111,
              "#46039f"
             ],
             [
              0.2222222222222222,
              "#7201a8"
             ],
             [
              0.3333333333333333,
              "#9c179e"
             ],
             [
              0.4444444444444444,
              "#bd3786"
             ],
             [
              0.5555555555555556,
              "#d8576b"
             ],
             [
              0.6666666666666666,
              "#ed7953"
             ],
             [
              0.7777777777777778,
              "#fb9f3a"
             ],
             [
              0.8888888888888888,
              "#fdca26"
             ],
             [
              1,
              "#f0f921"
             ]
            ],
            "type": "heatmap"
           }
          ],
          "heatmapgl": [
           {
            "colorbar": {
             "outlinewidth": 0,
             "ticks": ""
            },
            "colorscale": [
             [
              0,
              "#0d0887"
             ],
             [
              0.1111111111111111,
              "#46039f"
             ],
             [
              0.2222222222222222,
              "#7201a8"
             ],
             [
              0.3333333333333333,
              "#9c179e"
             ],
             [
              0.4444444444444444,
              "#bd3786"
             ],
             [
              0.5555555555555556,
              "#d8576b"
             ],
             [
              0.6666666666666666,
              "#ed7953"
             ],
             [
              0.7777777777777778,
              "#fb9f3a"
             ],
             [
              0.8888888888888888,
              "#fdca26"
             ],
             [
              1,
              "#f0f921"
             ]
            ],
            "type": "heatmapgl"
           }
          ],
          "histogram": [
           {
            "marker": {
             "pattern": {
              "fillmode": "overlay",
              "size": 10,
              "solidity": 0.2
             }
            },
            "type": "histogram"
           }
          ],
          "histogram2d": [
           {
            "colorbar": {
             "outlinewidth": 0,
             "ticks": ""
            },
            "colorscale": [
             [
              0,
              "#0d0887"
             ],
             [
              0.1111111111111111,
              "#46039f"
             ],
             [
              0.2222222222222222,
              "#7201a8"
             ],
             [
              0.3333333333333333,
              "#9c179e"
             ],
             [
              0.4444444444444444,
              "#bd3786"
             ],
             [
              0.5555555555555556,
              "#d8576b"
             ],
             [
              0.6666666666666666,
              "#ed7953"
             ],
             [
              0.7777777777777778,
              "#fb9f3a"
             ],
             [
              0.8888888888888888,
              "#fdca26"
             ],
             [
              1,
              "#f0f921"
             ]
            ],
            "type": "histogram2d"
           }
          ],
          "histogram2dcontour": [
           {
            "colorbar": {
             "outlinewidth": 0,
             "ticks": ""
            },
            "colorscale": [
             [
              0,
              "#0d0887"
             ],
             [
              0.1111111111111111,
              "#46039f"
             ],
             [
              0.2222222222222222,
              "#7201a8"
             ],
             [
              0.3333333333333333,
              "#9c179e"
             ],
             [
              0.4444444444444444,
              "#bd3786"
             ],
             [
              0.5555555555555556,
              "#d8576b"
             ],
             [
              0.6666666666666666,
              "#ed7953"
             ],
             [
              0.7777777777777778,
              "#fb9f3a"
             ],
             [
              0.8888888888888888,
              "#fdca26"
             ],
             [
              1,
              "#f0f921"
             ]
            ],
            "type": "histogram2dcontour"
           }
          ],
          "mesh3d": [
           {
            "colorbar": {
             "outlinewidth": 0,
             "ticks": ""
            },
            "type": "mesh3d"
           }
          ],
          "parcoords": [
           {
            "line": {
             "colorbar": {
              "outlinewidth": 0,
              "ticks": ""
             }
            },
            "type": "parcoords"
           }
          ],
          "pie": [
           {
            "automargin": true,
            "type": "pie"
           }
          ],
          "scatter": [
           {
            "marker": {
             "colorbar": {
              "outlinewidth": 0,
              "ticks": ""
             }
            },
            "type": "scatter"
           }
          ],
          "scatter3d": [
           {
            "line": {
             "colorbar": {
              "outlinewidth": 0,
              "ticks": ""
             }
            },
            "marker": {
             "colorbar": {
              "outlinewidth": 0,
              "ticks": ""
             }
            },
            "type": "scatter3d"
           }
          ],
          "scattercarpet": [
           {
            "marker": {
             "colorbar": {
              "outlinewidth": 0,
              "ticks": ""
             }
            },
            "type": "scattercarpet"
           }
          ],
          "scattergeo": [
           {
            "marker": {
             "colorbar": {
              "outlinewidth": 0,
              "ticks": ""
             }
            },
            "type": "scattergeo"
           }
          ],
          "scattergl": [
           {
            "marker": {
             "colorbar": {
              "outlinewidth": 0,
              "ticks": ""
             }
            },
            "type": "scattergl"
           }
          ],
          "scattermapbox": [
           {
            "marker": {
             "colorbar": {
              "outlinewidth": 0,
              "ticks": ""
             }
            },
            "type": "scattermapbox"
           }
          ],
          "scatterpolar": [
           {
            "marker": {
             "colorbar": {
              "outlinewidth": 0,
              "ticks": ""
             }
            },
            "type": "scatterpolar"
           }
          ],
          "scatterpolargl": [
           {
            "marker": {
             "colorbar": {
              "outlinewidth": 0,
              "ticks": ""
             }
            },
            "type": "scatterpolargl"
           }
          ],
          "scatterternary": [
           {
            "marker": {
             "colorbar": {
              "outlinewidth": 0,
              "ticks": ""
             }
            },
            "type": "scatterternary"
           }
          ],
          "surface": [
           {
            "colorbar": {
             "outlinewidth": 0,
             "ticks": ""
            },
            "colorscale": [
             [
              0,
              "#0d0887"
             ],
             [
              0.1111111111111111,
              "#46039f"
             ],
             [
              0.2222222222222222,
              "#7201a8"
             ],
             [
              0.3333333333333333,
              "#9c179e"
             ],
             [
              0.4444444444444444,
              "#bd3786"
             ],
             [
              0.5555555555555556,
              "#d8576b"
             ],
             [
              0.6666666666666666,
              "#ed7953"
             ],
             [
              0.7777777777777778,
              "#fb9f3a"
             ],
             [
              0.8888888888888888,
              "#fdca26"
             ],
             [
              1,
              "#f0f921"
             ]
            ],
            "type": "surface"
           }
          ],
          "table": [
           {
            "cells": {
             "fill": {
              "color": "#EBF0F8"
             },
             "line": {
              "color": "white"
             }
            },
            "header": {
             "fill": {
              "color": "#C8D4E3"
             },
             "line": {
              "color": "white"
             }
            },
            "type": "table"
           }
          ]
         },
         "layout": {
          "annotationdefaults": {
           "arrowcolor": "#2a3f5f",
           "arrowhead": 0,
           "arrowwidth": 1
          },
          "autotypenumbers": "strict",
          "coloraxis": {
           "colorbar": {
            "outlinewidth": 0,
            "ticks": ""
           }
          },
          "colorscale": {
           "diverging": [
            [
             0,
             "#8e0152"
            ],
            [
             0.1,
             "#c51b7d"
            ],
            [
             0.2,
             "#de77ae"
            ],
            [
             0.3,
             "#f1b6da"
            ],
            [
             0.4,
             "#fde0ef"
            ],
            [
             0.5,
             "#f7f7f7"
            ],
            [
             0.6,
             "#e6f5d0"
            ],
            [
             0.7,
             "#b8e186"
            ],
            [
             0.8,
             "#7fbc41"
            ],
            [
             0.9,
             "#4d9221"
            ],
            [
             1,
             "#276419"
            ]
           ],
           "sequential": [
            [
             0,
             "#0d0887"
            ],
            [
             0.1111111111111111,
             "#46039f"
            ],
            [
             0.2222222222222222,
             "#7201a8"
            ],
            [
             0.3333333333333333,
             "#9c179e"
            ],
            [
             0.4444444444444444,
             "#bd3786"
            ],
            [
             0.5555555555555556,
             "#d8576b"
            ],
            [
             0.6666666666666666,
             "#ed7953"
            ],
            [
             0.7777777777777778,
             "#fb9f3a"
            ],
            [
             0.8888888888888888,
             "#fdca26"
            ],
            [
             1,
             "#f0f921"
            ]
           ],
           "sequentialminus": [
            [
             0,
             "#0d0887"
            ],
            [
             0.1111111111111111,
             "#46039f"
            ],
            [
             0.2222222222222222,
             "#7201a8"
            ],
            [
             0.3333333333333333,
             "#9c179e"
            ],
            [
             0.4444444444444444,
             "#bd3786"
            ],
            [
             0.5555555555555556,
             "#d8576b"
            ],
            [
             0.6666666666666666,
             "#ed7953"
            ],
            [
             0.7777777777777778,
             "#fb9f3a"
            ],
            [
             0.8888888888888888,
             "#fdca26"
            ],
            [
             1,
             "#f0f921"
            ]
           ]
          },
          "colorway": [
           "#636efa",
           "#EF553B",
           "#00cc96",
           "#ab63fa",
           "#FFA15A",
           "#19d3f3",
           "#FF6692",
           "#B6E880",
           "#FF97FF",
           "#FECB52"
          ],
          "font": {
           "color": "#2a3f5f"
          },
          "geo": {
           "bgcolor": "white",
           "lakecolor": "white",
           "landcolor": "#E5ECF6",
           "showlakes": true,
           "showland": true,
           "subunitcolor": "white"
          },
          "hoverlabel": {
           "align": "left"
          },
          "hovermode": "closest",
          "mapbox": {
           "style": "light"
          },
          "paper_bgcolor": "white",
          "plot_bgcolor": "#E5ECF6",
          "polar": {
           "angularaxis": {
            "gridcolor": "white",
            "linecolor": "white",
            "ticks": ""
           },
           "bgcolor": "#E5ECF6",
           "radialaxis": {
            "gridcolor": "white",
            "linecolor": "white",
            "ticks": ""
           }
          },
          "scene": {
           "xaxis": {
            "backgroundcolor": "#E5ECF6",
            "gridcolor": "white",
            "gridwidth": 2,
            "linecolor": "white",
            "showbackground": true,
            "ticks": "",
            "zerolinecolor": "white"
           },
           "yaxis": {
            "backgroundcolor": "#E5ECF6",
            "gridcolor": "white",
            "gridwidth": 2,
            "linecolor": "white",
            "showbackground": true,
            "ticks": "",
            "zerolinecolor": "white"
           },
           "zaxis": {
            "backgroundcolor": "#E5ECF6",
            "gridcolor": "white",
            "gridwidth": 2,
            "linecolor": "white",
            "showbackground": true,
            "ticks": "",
            "zerolinecolor": "white"
           }
          },
          "shapedefaults": {
           "line": {
            "color": "#2a3f5f"
           }
          },
          "ternary": {
           "aaxis": {
            "gridcolor": "white",
            "linecolor": "white",
            "ticks": ""
           },
           "baxis": {
            "gridcolor": "white",
            "linecolor": "white",
            "ticks": ""
           },
           "bgcolor": "#E5ECF6",
           "caxis": {
            "gridcolor": "white",
            "linecolor": "white",
            "ticks": ""
           }
          },
          "title": {
           "x": 0.05
          },
          "xaxis": {
           "automargin": true,
           "gridcolor": "white",
           "linecolor": "white",
           "ticks": "",
           "title": {
            "standoff": 15
           },
           "zerolinecolor": "white",
           "zerolinewidth": 2
          },
          "yaxis": {
           "automargin": true,
           "gridcolor": "white",
           "linecolor": "white",
           "ticks": "",
           "title": {
            "standoff": 15
           },
           "zerolinecolor": "white",
           "zerolinewidth": 2
          }
         }
        },
        "uniformtext": {
         "minsize": 8,
         "mode": "hide"
        },
        "xaxis": {
         "anchor": "y",
         "categoryarray": [
          "COVID-19",
          "SARS",
          "EBOLA",
          "MERS",
          "H1N1"
         ],
         "categoryorder": "array",
         "domain": [
          0,
          0.31999999999999995
         ],
         "title": {
          "text": "epidemic"
         }
        },
        "xaxis2": {
         "anchor": "y2",
         "categoryarray": [
          "COVID-19",
          "SARS",
          "EBOLA",
          "MERS",
          "H1N1"
         ],
         "categoryorder": "array",
         "domain": [
          0.33999999999999997,
          0.6599999999999999
         ],
         "matches": "x",
         "title": {
          "text": "epidemic"
         }
        },
        "xaxis3": {
         "anchor": "y3",
         "categoryarray": [
          "COVID-19",
          "SARS",
          "EBOLA",
          "MERS",
          "H1N1"
         ],
         "categoryorder": "array",
         "domain": [
          0.6799999999999999,
          0.9999999999999999
         ],
         "matches": "x",
         "title": {
          "text": "epidemic"
         }
        },
        "yaxis": {
         "anchor": "x",
         "domain": [
          0,
          1
         ],
         "showticklabels": false,
         "title": {
          "text": "Value"
         }
        },
        "yaxis2": {
         "anchor": "x2",
         "domain": [
          0,
          1
         ],
         "showticklabels": false
        },
        "yaxis3": {
         "anchor": "x3",
         "domain": [
          0,
          1
         ],
         "showticklabels": false
        }
       }
      },
      "text/html": [
       "<div>                            <div id=\"3c34a5aa-bbf0-4813-bc0e-4abe006fe97b\" class=\"plotly-graph-div\" style=\"height:525px; width:100%;\"></div>            <script type=\"text/javascript\">                require([\"plotly\"], function(Plotly) {                    window.PLOTLYENV=window.PLOTLYENV || {};                                    if (document.getElementById(\"3c34a5aa-bbf0-4813-bc0e-4abe006fe97b\")) {                    Plotly.newPlot(                        \"3c34a5aa-bbf0-4813-bc0e-4abe006fe97b\",                        [{\"alignmentgroup\":\"True\",\"hovertemplate\":\"epidemic=%{x}<br>Case=confirmed<br>Value=%{text}<extra></extra>\",\"legendgroup\":\"COVID-19\",\"marker\":{\"color\":\"rgb(127, 60, 141)\",\"pattern\":{\"shape\":\"\"}},\"name\":\"COVID-19\",\"offsetgroup\":\"COVID-19\",\"orientation\":\"v\",\"showlegend\":true,\"text\":[232315538.0],\"textposition\":\"outside\",\"type\":\"bar\",\"x\":[\"COVID-19\"],\"xaxis\":\"x\",\"y\":[232315538.0],\"yaxis\":\"y\"},{\"alignmentgroup\":\"True\",\"hovertemplate\":\"epidemic=%{x}<br>Case=deaths<br>Value=%{text}<extra></extra>\",\"legendgroup\":\"COVID-19\",\"marker\":{\"color\":\"rgb(127, 60, 141)\",\"pattern\":{\"shape\":\"\"}},\"name\":\"COVID-19\",\"offsetgroup\":\"COVID-19\",\"orientation\":\"v\",\"showlegend\":false,\"text\":[4756235.0],\"textposition\":\"outside\",\"type\":\"bar\",\"x\":[\"COVID-19\"],\"xaxis\":\"x2\",\"y\":[4756235.0],\"yaxis\":\"y2\"},{\"alignmentgroup\":\"True\",\"hovertemplate\":\"epidemic=%{x}<br>Case=mortality<br>Value=%{text}<extra></extra>\",\"legendgroup\":\"COVID-19\",\"marker\":{\"color\":\"rgb(127, 60, 141)\",\"pattern\":{\"shape\":\"\"}},\"name\":\"COVID-19\",\"offsetgroup\":\"COVID-19\",\"orientation\":\"v\",\"showlegend\":false,\"text\":[2.05],\"textposition\":\"outside\",\"type\":\"bar\",\"x\":[\"COVID-19\"],\"xaxis\":\"x3\",\"y\":[2.05],\"yaxis\":\"y3\"},{\"alignmentgroup\":\"True\",\"hovertemplate\":\"epidemic=%{x}<br>Case=confirmed<br>Value=%{text}<extra></extra>\",\"legendgroup\":\"SARS\",\"marker\":{\"color\":\"rgb(17, 165, 121)\",\"pattern\":{\"shape\":\"\"}},\"name\":\"SARS\",\"offsetgroup\":\"SARS\",\"orientation\":\"v\",\"showlegend\":true,\"text\":[8422.0],\"textposition\":\"outside\",\"type\":\"bar\",\"x\":[\"SARS\"],\"xaxis\":\"x\",\"y\":[8422.0],\"yaxis\":\"y\"},{\"alignmentgroup\":\"True\",\"hovertemplate\":\"epidemic=%{x}<br>Case=deaths<br>Value=%{text}<extra></extra>\",\"legendgroup\":\"SARS\",\"marker\":{\"color\":\"rgb(17, 165, 121)\",\"pattern\":{\"shape\":\"\"}},\"name\":\"SARS\",\"offsetgroup\":\"SARS\",\"orientation\":\"v\",\"showlegend\":false,\"text\":[813.0],\"textposition\":\"outside\",\"type\":\"bar\",\"x\":[\"SARS\"],\"xaxis\":\"x2\",\"y\":[813.0],\"yaxis\":\"y2\"},{\"alignmentgroup\":\"True\",\"hovertemplate\":\"epidemic=%{x}<br>Case=mortality<br>Value=%{text}<extra></extra>\",\"legendgroup\":\"SARS\",\"marker\":{\"color\":\"rgb(17, 165, 121)\",\"pattern\":{\"shape\":\"\"}},\"name\":\"SARS\",\"offsetgroup\":\"SARS\",\"orientation\":\"v\",\"showlegend\":false,\"text\":[9.65],\"textposition\":\"outside\",\"type\":\"bar\",\"x\":[\"SARS\"],\"xaxis\":\"x3\",\"y\":[9.65],\"yaxis\":\"y3\"},{\"alignmentgroup\":\"True\",\"hovertemplate\":\"epidemic=%{x}<br>Case=confirmed<br>Value=%{text}<extra></extra>\",\"legendgroup\":\"EBOLA\",\"marker\":{\"color\":\"rgb(57, 105, 172)\",\"pattern\":{\"shape\":\"\"}},\"name\":\"EBOLA\",\"offsetgroup\":\"EBOLA\",\"orientation\":\"v\",\"showlegend\":true,\"text\":[28646.0],\"textposition\":\"outside\",\"type\":\"bar\",\"x\":[\"EBOLA\"],\"xaxis\":\"x\",\"y\":[28646.0],\"yaxis\":\"y\"},{\"alignmentgroup\":\"True\",\"hovertemplate\":\"epidemic=%{x}<br>Case=deaths<br>Value=%{text}<extra></extra>\",\"legendgroup\":\"EBOLA\",\"marker\":{\"color\":\"rgb(57, 105, 172)\",\"pattern\":{\"shape\":\"\"}},\"name\":\"EBOLA\",\"offsetgroup\":\"EBOLA\",\"orientation\":\"v\",\"showlegend\":false,\"text\":[11323.0],\"textposition\":\"outside\",\"type\":\"bar\",\"x\":[\"EBOLA\"],\"xaxis\":\"x2\",\"y\":[11323.0],\"yaxis\":\"y2\"},{\"alignmentgroup\":\"True\",\"hovertemplate\":\"epidemic=%{x}<br>Case=mortality<br>Value=%{text}<extra></extra>\",\"legendgroup\":\"EBOLA\",\"marker\":{\"color\":\"rgb(57, 105, 172)\",\"pattern\":{\"shape\":\"\"}},\"name\":\"EBOLA\",\"offsetgroup\":\"EBOLA\",\"orientation\":\"v\",\"showlegend\":false,\"text\":[39.53],\"textposition\":\"outside\",\"type\":\"bar\",\"x\":[\"EBOLA\"],\"xaxis\":\"x3\",\"y\":[39.53],\"yaxis\":\"y3\"},{\"alignmentgroup\":\"True\",\"hovertemplate\":\"epidemic=%{x}<br>Case=confirmed<br>Value=%{text}<extra></extra>\",\"legendgroup\":\"MERS\",\"marker\":{\"color\":\"rgb(242, 183, 1)\",\"pattern\":{\"shape\":\"\"}},\"name\":\"MERS\",\"offsetgroup\":\"MERS\",\"orientation\":\"v\",\"showlegend\":true,\"text\":[2519.0],\"textposition\":\"outside\",\"type\":\"bar\",\"x\":[\"MERS\"],\"xaxis\":\"x\",\"y\":[2519.0],\"yaxis\":\"y\"},{\"alignmentgroup\":\"True\",\"hovertemplate\":\"epidemic=%{x}<br>Case=deaths<br>Value=%{text}<extra></extra>\",\"legendgroup\":\"MERS\",\"marker\":{\"color\":\"rgb(242, 183, 1)\",\"pattern\":{\"shape\":\"\"}},\"name\":\"MERS\",\"offsetgroup\":\"MERS\",\"orientation\":\"v\",\"showlegend\":false,\"text\":[866.0],\"textposition\":\"outside\",\"type\":\"bar\",\"x\":[\"MERS\"],\"xaxis\":\"x2\",\"y\":[866.0],\"yaxis\":\"y2\"},{\"alignmentgroup\":\"True\",\"hovertemplate\":\"epidemic=%{x}<br>Case=mortality<br>Value=%{text}<extra></extra>\",\"legendgroup\":\"MERS\",\"marker\":{\"color\":\"rgb(242, 183, 1)\",\"pattern\":{\"shape\":\"\"}},\"name\":\"MERS\",\"offsetgroup\":\"MERS\",\"orientation\":\"v\",\"showlegend\":false,\"text\":[34.38],\"textposition\":\"outside\",\"type\":\"bar\",\"x\":[\"MERS\"],\"xaxis\":\"x3\",\"y\":[34.38],\"yaxis\":\"y3\"},{\"alignmentgroup\":\"True\",\"hovertemplate\":\"epidemic=%{x}<br>Case=confirmed<br>Value=%{text}<extra></extra>\",\"legendgroup\":\"H1N1\",\"marker\":{\"color\":\"rgb(231, 63, 116)\",\"pattern\":{\"shape\":\"\"}},\"name\":\"H1N1\",\"offsetgroup\":\"H1N1\",\"orientation\":\"v\",\"showlegend\":true,\"text\":[6724149.0],\"textposition\":\"outside\",\"type\":\"bar\",\"x\":[\"H1N1\"],\"xaxis\":\"x\",\"y\":[6724149.0],\"yaxis\":\"y\"},{\"alignmentgroup\":\"True\",\"hovertemplate\":\"epidemic=%{x}<br>Case=deaths<br>Value=%{text}<extra></extra>\",\"legendgroup\":\"H1N1\",\"marker\":{\"color\":\"rgb(231, 63, 116)\",\"pattern\":{\"shape\":\"\"}},\"name\":\"H1N1\",\"offsetgroup\":\"H1N1\",\"orientation\":\"v\",\"showlegend\":false,\"text\":[19654.0],\"textposition\":\"outside\",\"type\":\"bar\",\"x\":[\"H1N1\"],\"xaxis\":\"x2\",\"y\":[19654.0],\"yaxis\":\"y2\"},{\"alignmentgroup\":\"True\",\"hovertemplate\":\"epidemic=%{x}<br>Case=mortality<br>Value=%{text}<extra></extra>\",\"legendgroup\":\"H1N1\",\"marker\":{\"color\":\"rgb(231, 63, 116)\",\"pattern\":{\"shape\":\"\"}},\"name\":\"H1N1\",\"offsetgroup\":\"H1N1\",\"orientation\":\"v\",\"showlegend\":false,\"text\":[0.29],\"textposition\":\"outside\",\"type\":\"bar\",\"x\":[\"H1N1\"],\"xaxis\":\"x3\",\"y\":[0.29],\"yaxis\":\"y3\"}],                        {\"annotations\":[{\"font\":{},\"showarrow\":false,\"text\":\"Case=confirmed\",\"x\":0.15999999999999998,\"xanchor\":\"center\",\"xref\":\"paper\",\"y\":1.0,\"yanchor\":\"bottom\",\"yref\":\"paper\"},{\"font\":{},\"showarrow\":false,\"text\":\"Case=deaths\",\"x\":0.49999999999999994,\"xanchor\":\"center\",\"xref\":\"paper\",\"y\":1.0,\"yanchor\":\"bottom\",\"yref\":\"paper\"},{\"font\":{},\"showarrow\":false,\"text\":\"Case=mortality\",\"x\":0.8399999999999999,\"xanchor\":\"center\",\"xref\":\"paper\",\"y\":1.0,\"yanchor\":\"bottom\",\"yref\":\"paper\"}],\"barmode\":\"relative\",\"legend\":{\"title\":{\"text\":\"epidemic\"},\"tracegroupgap\":0},\"margin\":{\"t\":60},\"template\":{\"data\":{\"bar\":[{\"error_x\":{\"color\":\"#2a3f5f\"},\"error_y\":{\"color\":\"#2a3f5f\"},\"marker\":{\"line\":{\"color\":\"#E5ECF6\",\"width\":0.5},\"pattern\":{\"fillmode\":\"overlay\",\"size\":10,\"solidity\":0.2}},\"type\":\"bar\"}],\"barpolar\":[{\"marker\":{\"line\":{\"color\":\"#E5ECF6\",\"width\":0.5},\"pattern\":{\"fillmode\":\"overlay\",\"size\":10,\"solidity\":0.2}},\"type\":\"barpolar\"}],\"carpet\":[{\"aaxis\":{\"endlinecolor\":\"#2a3f5f\",\"gridcolor\":\"white\",\"linecolor\":\"white\",\"minorgridcolor\":\"white\",\"startlinecolor\":\"#2a3f5f\"},\"baxis\":{\"endlinecolor\":\"#2a3f5f\",\"gridcolor\":\"white\",\"linecolor\":\"white\",\"minorgridcolor\":\"white\",\"startlinecolor\":\"#2a3f5f\"},\"type\":\"carpet\"}],\"choropleth\":[{\"colorbar\":{\"outlinewidth\":0,\"ticks\":\"\"},\"type\":\"choropleth\"}],\"contour\":[{\"colorbar\":{\"outlinewidth\":0,\"ticks\":\"\"},\"colorscale\":[[0.0,\"#0d0887\"],[0.1111111111111111,\"#46039f\"],[0.2222222222222222,\"#7201a8\"],[0.3333333333333333,\"#9c179e\"],[0.4444444444444444,\"#bd3786\"],[0.5555555555555556,\"#d8576b\"],[0.6666666666666666,\"#ed7953\"],[0.7777777777777778,\"#fb9f3a\"],[0.8888888888888888,\"#fdca26\"],[1.0,\"#f0f921\"]],\"type\":\"contour\"}],\"contourcarpet\":[{\"colorbar\":{\"outlinewidth\":0,\"ticks\":\"\"},\"type\":\"contourcarpet\"}],\"heatmap\":[{\"colorbar\":{\"outlinewidth\":0,\"ticks\":\"\"},\"colorscale\":[[0.0,\"#0d0887\"],[0.1111111111111111,\"#46039f\"],[0.2222222222222222,\"#7201a8\"],[0.3333333333333333,\"#9c179e\"],[0.4444444444444444,\"#bd3786\"],[0.5555555555555556,\"#d8576b\"],[0.6666666666666666,\"#ed7953\"],[0.7777777777777778,\"#fb9f3a\"],[0.8888888888888888,\"#fdca26\"],[1.0,\"#f0f921\"]],\"type\":\"heatmap\"}],\"heatmapgl\":[{\"colorbar\":{\"outlinewidth\":0,\"ticks\":\"\"},\"colorscale\":[[0.0,\"#0d0887\"],[0.1111111111111111,\"#46039f\"],[0.2222222222222222,\"#7201a8\"],[0.3333333333333333,\"#9c179e\"],[0.4444444444444444,\"#bd3786\"],[0.5555555555555556,\"#d8576b\"],[0.6666666666666666,\"#ed7953\"],[0.7777777777777778,\"#fb9f3a\"],[0.8888888888888888,\"#fdca26\"],[1.0,\"#f0f921\"]],\"type\":\"heatmapgl\"}],\"histogram\":[{\"marker\":{\"pattern\":{\"fillmode\":\"overlay\",\"size\":10,\"solidity\":0.2}},\"type\":\"histogram\"}],\"histogram2d\":[{\"colorbar\":{\"outlinewidth\":0,\"ticks\":\"\"},\"colorscale\":[[0.0,\"#0d0887\"],[0.1111111111111111,\"#46039f\"],[0.2222222222222222,\"#7201a8\"],[0.3333333333333333,\"#9c179e\"],[0.4444444444444444,\"#bd3786\"],[0.5555555555555556,\"#d8576b\"],[0.6666666666666666,\"#ed7953\"],[0.7777777777777778,\"#fb9f3a\"],[0.8888888888888888,\"#fdca26\"],[1.0,\"#f0f921\"]],\"type\":\"histogram2d\"}],\"histogram2dcontour\":[{\"colorbar\":{\"outlinewidth\":0,\"ticks\":\"\"},\"colorscale\":[[0.0,\"#0d0887\"],[0.1111111111111111,\"#46039f\"],[0.2222222222222222,\"#7201a8\"],[0.3333333333333333,\"#9c179e\"],[0.4444444444444444,\"#bd3786\"],[0.5555555555555556,\"#d8576b\"],[0.6666666666666666,\"#ed7953\"],[0.7777777777777778,\"#fb9f3a\"],[0.8888888888888888,\"#fdca26\"],[1.0,\"#f0f921\"]],\"type\":\"histogram2dcontour\"}],\"mesh3d\":[{\"colorbar\":{\"outlinewidth\":0,\"ticks\":\"\"},\"type\":\"mesh3d\"}],\"parcoords\":[{\"line\":{\"colorbar\":{\"outlinewidth\":0,\"ticks\":\"\"}},\"type\":\"parcoords\"}],\"pie\":[{\"automargin\":true,\"type\":\"pie\"}],\"scatter\":[{\"marker\":{\"colorbar\":{\"outlinewidth\":0,\"ticks\":\"\"}},\"type\":\"scatter\"}],\"scatter3d\":[{\"line\":{\"colorbar\":{\"outlinewidth\":0,\"ticks\":\"\"}},\"marker\":{\"colorbar\":{\"outlinewidth\":0,\"ticks\":\"\"}},\"type\":\"scatter3d\"}],\"scattercarpet\":[{\"marker\":{\"colorbar\":{\"outlinewidth\":0,\"ticks\":\"\"}},\"type\":\"scattercarpet\"}],\"scattergeo\":[{\"marker\":{\"colorbar\":{\"outlinewidth\":0,\"ticks\":\"\"}},\"type\":\"scattergeo\"}],\"scattergl\":[{\"marker\":{\"colorbar\":{\"outlinewidth\":0,\"ticks\":\"\"}},\"type\":\"scattergl\"}],\"scattermapbox\":[{\"marker\":{\"colorbar\":{\"outlinewidth\":0,\"ticks\":\"\"}},\"type\":\"scattermapbox\"}],\"scatterpolar\":[{\"marker\":{\"colorbar\":{\"outlinewidth\":0,\"ticks\":\"\"}},\"type\":\"scatterpolar\"}],\"scatterpolargl\":[{\"marker\":{\"colorbar\":{\"outlinewidth\":0,\"ticks\":\"\"}},\"type\":\"scatterpolargl\"}],\"scatterternary\":[{\"marker\":{\"colorbar\":{\"outlinewidth\":0,\"ticks\":\"\"}},\"type\":\"scatterternary\"}],\"surface\":[{\"colorbar\":{\"outlinewidth\":0,\"ticks\":\"\"},\"colorscale\":[[0.0,\"#0d0887\"],[0.1111111111111111,\"#46039f\"],[0.2222222222222222,\"#7201a8\"],[0.3333333333333333,\"#9c179e\"],[0.4444444444444444,\"#bd3786\"],[0.5555555555555556,\"#d8576b\"],[0.6666666666666666,\"#ed7953\"],[0.7777777777777778,\"#fb9f3a\"],[0.8888888888888888,\"#fdca26\"],[1.0,\"#f0f921\"]],\"type\":\"surface\"}],\"table\":[{\"cells\":{\"fill\":{\"color\":\"#EBF0F8\"},\"line\":{\"color\":\"white\"}},\"header\":{\"fill\":{\"color\":\"#C8D4E3\"},\"line\":{\"color\":\"white\"}},\"type\":\"table\"}]},\"layout\":{\"annotationdefaults\":{\"arrowcolor\":\"#2a3f5f\",\"arrowhead\":0,\"arrowwidth\":1},\"autotypenumbers\":\"strict\",\"coloraxis\":{\"colorbar\":{\"outlinewidth\":0,\"ticks\":\"\"}},\"colorscale\":{\"diverging\":[[0,\"#8e0152\"],[0.1,\"#c51b7d\"],[0.2,\"#de77ae\"],[0.3,\"#f1b6da\"],[0.4,\"#fde0ef\"],[0.5,\"#f7f7f7\"],[0.6,\"#e6f5d0\"],[0.7,\"#b8e186\"],[0.8,\"#7fbc41\"],[0.9,\"#4d9221\"],[1,\"#276419\"]],\"sequential\":[[0.0,\"#0d0887\"],[0.1111111111111111,\"#46039f\"],[0.2222222222222222,\"#7201a8\"],[0.3333333333333333,\"#9c179e\"],[0.4444444444444444,\"#bd3786\"],[0.5555555555555556,\"#d8576b\"],[0.6666666666666666,\"#ed7953\"],[0.7777777777777778,\"#fb9f3a\"],[0.8888888888888888,\"#fdca26\"],[1.0,\"#f0f921\"]],\"sequentialminus\":[[0.0,\"#0d0887\"],[0.1111111111111111,\"#46039f\"],[0.2222222222222222,\"#7201a8\"],[0.3333333333333333,\"#9c179e\"],[0.4444444444444444,\"#bd3786\"],[0.5555555555555556,\"#d8576b\"],[0.6666666666666666,\"#ed7953\"],[0.7777777777777778,\"#fb9f3a\"],[0.8888888888888888,\"#fdca26\"],[1.0,\"#f0f921\"]]},\"colorway\":[\"#636efa\",\"#EF553B\",\"#00cc96\",\"#ab63fa\",\"#FFA15A\",\"#19d3f3\",\"#FF6692\",\"#B6E880\",\"#FF97FF\",\"#FECB52\"],\"font\":{\"color\":\"#2a3f5f\"},\"geo\":{\"bgcolor\":\"white\",\"lakecolor\":\"white\",\"landcolor\":\"#E5ECF6\",\"showlakes\":true,\"showland\":true,\"subunitcolor\":\"white\"},\"hoverlabel\":{\"align\":\"left\"},\"hovermode\":\"closest\",\"mapbox\":{\"style\":\"light\"},\"paper_bgcolor\":\"white\",\"plot_bgcolor\":\"#E5ECF6\",\"polar\":{\"angularaxis\":{\"gridcolor\":\"white\",\"linecolor\":\"white\",\"ticks\":\"\"},\"bgcolor\":\"#E5ECF6\",\"radialaxis\":{\"gridcolor\":\"white\",\"linecolor\":\"white\",\"ticks\":\"\"}},\"scene\":{\"xaxis\":{\"backgroundcolor\":\"#E5ECF6\",\"gridcolor\":\"white\",\"gridwidth\":2,\"linecolor\":\"white\",\"showbackground\":true,\"ticks\":\"\",\"zerolinecolor\":\"white\"},\"yaxis\":{\"backgroundcolor\":\"#E5ECF6\",\"gridcolor\":\"white\",\"gridwidth\":2,\"linecolor\":\"white\",\"showbackground\":true,\"ticks\":\"\",\"zerolinecolor\":\"white\"},\"zaxis\":{\"backgroundcolor\":\"#E5ECF6\",\"gridcolor\":\"white\",\"gridwidth\":2,\"linecolor\":\"white\",\"showbackground\":true,\"ticks\":\"\",\"zerolinecolor\":\"white\"}},\"shapedefaults\":{\"line\":{\"color\":\"#2a3f5f\"}},\"ternary\":{\"aaxis\":{\"gridcolor\":\"white\",\"linecolor\":\"white\",\"ticks\":\"\"},\"baxis\":{\"gridcolor\":\"white\",\"linecolor\":\"white\",\"ticks\":\"\"},\"bgcolor\":\"#E5ECF6\",\"caxis\":{\"gridcolor\":\"white\",\"linecolor\":\"white\",\"ticks\":\"\"}},\"title\":{\"x\":0.05},\"xaxis\":{\"automargin\":true,\"gridcolor\":\"white\",\"linecolor\":\"white\",\"ticks\":\"\",\"title\":{\"standoff\":15},\"zerolinecolor\":\"white\",\"zerolinewidth\":2},\"yaxis\":{\"automargin\":true,\"gridcolor\":\"white\",\"linecolor\":\"white\",\"ticks\":\"\",\"title\":{\"standoff\":15},\"zerolinecolor\":\"white\",\"zerolinewidth\":2}}},\"uniformtext\":{\"minsize\":8,\"mode\":\"hide\"},\"xaxis\":{\"anchor\":\"y\",\"categoryarray\":[\"COVID-19\",\"SARS\",\"EBOLA\",\"MERS\",\"H1N1\"],\"categoryorder\":\"array\",\"domain\":[0.0,0.31999999999999995],\"title\":{\"text\":\"epidemic\"}},\"xaxis2\":{\"anchor\":\"y2\",\"categoryarray\":[\"COVID-19\",\"SARS\",\"EBOLA\",\"MERS\",\"H1N1\"],\"categoryorder\":\"array\",\"domain\":[0.33999999999999997,0.6599999999999999],\"matches\":\"x\",\"title\":{\"text\":\"epidemic\"}},\"xaxis3\":{\"anchor\":\"y3\",\"categoryarray\":[\"COVID-19\",\"SARS\",\"EBOLA\",\"MERS\",\"H1N1\"],\"categoryorder\":\"array\",\"domain\":[0.6799999999999999,0.9999999999999999],\"matches\":\"x\",\"title\":{\"text\":\"epidemic\"}},\"yaxis\":{\"anchor\":\"x\",\"domain\":[0.0,1.0],\"showticklabels\":false,\"title\":{\"text\":\"Value\"}},\"yaxis2\":{\"anchor\":\"x2\",\"domain\":[0.0,1.0],\"showticklabels\":false},\"yaxis3\":{\"anchor\":\"x3\",\"domain\":[0.0,1.0],\"showticklabels\":false}},                        {\"responsive\": true}                    ).then(function(){\n",
       "                            \n",
       "var gd = document.getElementById('3c34a5aa-bbf0-4813-bc0e-4abe006fe97b');\n",
       "var x = new MutationObserver(function (mutations, observer) {{\n",
       "        var display = window.getComputedStyle(gd).display;\n",
       "        if (!display || display === 'none') {{\n",
       "            console.log([gd, 'removed!']);\n",
       "            Plotly.purge(gd);\n",
       "            observer.disconnect();\n",
       "        }}\n",
       "}});\n",
       "\n",
       "// Listen for the removal of the full notebook cells\n",
       "var notebookContainer = gd.closest('#notebook-container');\n",
       "if (notebookContainer) {{\n",
       "    x.observe(notebookContainer, {childList: true});\n",
       "}}\n",
       "\n",
       "// Listen for the clearing of the current output cell\n",
       "var outputEl = gd.closest('.output');\n",
       "if (outputEl) {{\n",
       "    x.observe(outputEl, {childList: true});\n",
       "}}\n",
       "\n",
       "                        })                };                });            </script>        </div>"
      ]
     },
     "metadata": {},
     "output_type": "display_data"
    }
   ],
   "source": [
    "temp = epidemics.melt(id_vars = 'epidemic', value_vars = ['confirmed', 'deaths', 'mortality'],\n",
    "                     var_name = 'Case', value_name = 'Value')\n",
    "fig = px.bar(temp, x = 'epidemic', y = 'Value', color = 'epidemic', text = 'Value', facet_col = 'Case',\n",
    "            color_discrete_sequence=px.colors.qualitative.Bold)\n",
    "\n",
    "fig.update_traces(textposition='outside')\n",
    "fig.update_layout(uniformtext_minsize = 8, uniformtext_mode = 'hide')\n",
    "fig.update_yaxes(showticklabels = False)\n",
    "fig.layout.yaxis2.update(matches = None)\n",
    "fig.layout.yaxis3.update(matches = None)\n",
    "fig.show()"
   ]
  },
  {
   "cell_type": "code",
   "execution_count": null,
   "id": "ade58b91",
   "metadata": {},
   "outputs": [],
   "source": []
  }
 ],
 "metadata": {
  "kernelspec": {
   "display_name": "Python 3",
   "language": "python",
   "name": "python3"
  },
  "language_info": {
   "codemirror_mode": {
    "name": "ipython",
    "version": 3
   },
   "file_extension": ".py",
   "mimetype": "text/x-python",
   "name": "python",
   "nbconvert_exporter": "python",
   "pygments_lexer": "ipython3",
   "version": "3.8.8"
  }
 },
 "nbformat": 4,
 "nbformat_minor": 5
}
